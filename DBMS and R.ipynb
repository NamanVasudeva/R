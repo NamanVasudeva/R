{
 "cells": [
  {
   "cell_type": "code",
   "execution_count": 1,
   "metadata": {},
   "outputs": [
    {
     "name": "stderr",
     "output_type": "stream",
     "text": [
      "Warning message in read.table(file = file, header = header, sep = sep, quote = quote, :\n",
      "“not all columns named in 'colClasses' exist”"
     ]
    },
    {
     "data": {
      "text/html": [
       "<table>\n",
       "<caption>A data.frame: 6 × 8</caption>\n",
       "<thead>\n",
       "\t<tr><th></th><th scope=col>CD_ID</th><th scope=col>YEAR</th><th scope=col>CROP_TYPE</th><th scope=col>GEO</th><th scope=col>SEEDED_AREA</th><th scope=col>HARVESTED_AREA</th><th scope=col>PRODUCTION</th><th scope=col>AVG_YIELD</th></tr>\n",
       "\t<tr><th></th><th scope=col>&lt;int&gt;</th><th scope=col>&lt;chr&gt;</th><th scope=col>&lt;fct&gt;</th><th scope=col>&lt;fct&gt;</th><th scope=col>&lt;int&gt;</th><th scope=col>&lt;int&gt;</th><th scope=col>&lt;int&gt;</th><th scope=col>&lt;int&gt;</th></tr>\n",
       "</thead>\n",
       "<tbody>\n",
       "\t<tr><th scope=row>1</th><td>0</td><td>1965-12-31</td><td>Barley</td><td>Alberta     </td><td>1372000</td><td>1372000</td><td>2504000</td><td>1825</td></tr>\n",
       "\t<tr><th scope=row>2</th><td>1</td><td>1965-12-31</td><td>Barley</td><td>Canada      </td><td>2476800</td><td>2476800</td><td>4752900</td><td>1920</td></tr>\n",
       "\t<tr><th scope=row>3</th><td>2</td><td>1965-12-31</td><td>Barley</td><td>Saskatchewan</td><td> 708000</td><td> 708000</td><td>1415000</td><td>2000</td></tr>\n",
       "\t<tr><th scope=row>4</th><td>3</td><td>1965-12-31</td><td>Canola</td><td>Alberta     </td><td> 297400</td><td> 297400</td><td> 215500</td><td> 725</td></tr>\n",
       "\t<tr><th scope=row>5</th><td>4</td><td>1965-12-31</td><td>Canola</td><td>Canada      </td><td> 580700</td><td> 580700</td><td> 512600</td><td> 885</td></tr>\n",
       "\t<tr><th scope=row>6</th><td>5</td><td>1965-12-31</td><td>Canola</td><td>Saskatchewan</td><td> 224600</td><td> 224600</td><td> 242700</td><td>1080</td></tr>\n",
       "</tbody>\n",
       "</table>\n"
      ],
      "text/latex": [
       "A data.frame: 6 × 8\n",
       "\\begin{tabular}{r|llllllll}\n",
       "  & CD\\_ID & YEAR & CROP\\_TYPE & GEO & SEEDED\\_AREA & HARVESTED\\_AREA & PRODUCTION & AVG\\_YIELD\\\\\n",
       "  & <int> & <chr> & <fct> & <fct> & <int> & <int> & <int> & <int>\\\\\n",
       "\\hline\n",
       "\t1 & 0 & 1965-12-31 & Barley & Alberta      & 1372000 & 1372000 & 2504000 & 1825\\\\\n",
       "\t2 & 1 & 1965-12-31 & Barley & Canada       & 2476800 & 2476800 & 4752900 & 1920\\\\\n",
       "\t3 & 2 & 1965-12-31 & Barley & Saskatchewan &  708000 &  708000 & 1415000 & 2000\\\\\n",
       "\t4 & 3 & 1965-12-31 & Canola & Alberta      &  297400 &  297400 &  215500 &  725\\\\\n",
       "\t5 & 4 & 1965-12-31 & Canola & Canada       &  580700 &  580700 &  512600 &  885\\\\\n",
       "\t6 & 5 & 1965-12-31 & Canola & Saskatchewan &  224600 &  224600 &  242700 & 1080\\\\\n",
       "\\end{tabular}\n"
      ],
      "text/markdown": [
       "\n",
       "A data.frame: 6 × 8\n",
       "\n",
       "| <!--/--> | CD_ID &lt;int&gt; | YEAR &lt;chr&gt; | CROP_TYPE &lt;fct&gt; | GEO &lt;fct&gt; | SEEDED_AREA &lt;int&gt; | HARVESTED_AREA &lt;int&gt; | PRODUCTION &lt;int&gt; | AVG_YIELD &lt;int&gt; |\n",
       "|---|---|---|---|---|---|---|---|---|\n",
       "| 1 | 0 | 1965-12-31 | Barley | Alberta      | 1372000 | 1372000 | 2504000 | 1825 |\n",
       "| 2 | 1 | 1965-12-31 | Barley | Canada       | 2476800 | 2476800 | 4752900 | 1920 |\n",
       "| 3 | 2 | 1965-12-31 | Barley | Saskatchewan |  708000 |  708000 | 1415000 | 2000 |\n",
       "| 4 | 3 | 1965-12-31 | Canola | Alberta      |  297400 |  297400 |  215500 |  725 |\n",
       "| 5 | 4 | 1965-12-31 | Canola | Canada       |  580700 |  580700 |  512600 |  885 |\n",
       "| 6 | 5 | 1965-12-31 | Canola | Saskatchewan |  224600 |  224600 |  242700 | 1080 |\n",
       "\n"
      ],
      "text/plain": [
       "  CD_ID YEAR       CROP_TYPE GEO          SEEDED_AREA HARVESTED_AREA PRODUCTION\n",
       "1 0     1965-12-31 Barley    Alberta      1372000     1372000        2504000   \n",
       "2 1     1965-12-31 Barley    Canada       2476800     2476800        4752900   \n",
       "3 2     1965-12-31 Barley    Saskatchewan  708000      708000        1415000   \n",
       "4 3     1965-12-31 Canola    Alberta       297400      297400         215500   \n",
       "5 4     1965-12-31 Canola    Canada        580700      580700         512600   \n",
       "6 5     1965-12-31 Canola    Saskatchewan  224600      224600         242700   \n",
       "  AVG_YIELD\n",
       "1 1825     \n",
       "2 1920     \n",
       "3 2000     \n",
       "4  725     \n",
       "5  885     \n",
       "6 1080     "
      ]
     },
     "metadata": {},
     "output_type": "display_data"
    },
    {
     "data": {
      "text/html": [
       "<table>\n",
       "<caption>A data.frame: 6 × 3</caption>\n",
       "<thead>\n",
       "\t<tr><th></th><th scope=col>DFX_ID</th><th scope=col>DATE</th><th scope=col>FXUSDCAD</th></tr>\n",
       "\t<tr><th></th><th scope=col>&lt;int&gt;</th><th scope=col>&lt;fct&gt;</th><th scope=col>&lt;dbl&gt;</th></tr>\n",
       "</thead>\n",
       "<tbody>\n",
       "\t<tr><th scope=row>1</th><td>0</td><td>2017-01-03</td><td>1.3435</td></tr>\n",
       "\t<tr><th scope=row>2</th><td>1</td><td>2017-01-04</td><td>1.3315</td></tr>\n",
       "\t<tr><th scope=row>3</th><td>2</td><td>2017-01-05</td><td>1.3244</td></tr>\n",
       "\t<tr><th scope=row>4</th><td>3</td><td>2017-01-06</td><td>1.3214</td></tr>\n",
       "\t<tr><th scope=row>5</th><td>4</td><td>2017-01-09</td><td>1.3240</td></tr>\n",
       "\t<tr><th scope=row>6</th><td>5</td><td>2017-01-10</td><td>1.3213</td></tr>\n",
       "</tbody>\n",
       "</table>\n"
      ],
      "text/latex": [
       "A data.frame: 6 × 3\n",
       "\\begin{tabular}{r|lll}\n",
       "  & DFX\\_ID & DATE & FXUSDCAD\\\\\n",
       "  & <int> & <fct> & <dbl>\\\\\n",
       "\\hline\n",
       "\t1 & 0 & 2017-01-03 & 1.3435\\\\\n",
       "\t2 & 1 & 2017-01-04 & 1.3315\\\\\n",
       "\t3 & 2 & 2017-01-05 & 1.3244\\\\\n",
       "\t4 & 3 & 2017-01-06 & 1.3214\\\\\n",
       "\t5 & 4 & 2017-01-09 & 1.3240\\\\\n",
       "\t6 & 5 & 2017-01-10 & 1.3213\\\\\n",
       "\\end{tabular}\n"
      ],
      "text/markdown": [
       "\n",
       "A data.frame: 6 × 3\n",
       "\n",
       "| <!--/--> | DFX_ID &lt;int&gt; | DATE &lt;fct&gt; | FXUSDCAD &lt;dbl&gt; |\n",
       "|---|---|---|---|\n",
       "| 1 | 0 | 2017-01-03 | 1.3435 |\n",
       "| 2 | 1 | 2017-01-04 | 1.3315 |\n",
       "| 3 | 2 | 2017-01-05 | 1.3244 |\n",
       "| 4 | 3 | 2017-01-06 | 1.3214 |\n",
       "| 5 | 4 | 2017-01-09 | 1.3240 |\n",
       "| 6 | 5 | 2017-01-10 | 1.3213 |\n",
       "\n"
      ],
      "text/plain": [
       "  DFX_ID DATE       FXUSDCAD\n",
       "1 0      2017-01-03 1.3435  \n",
       "2 1      2017-01-04 1.3315  \n",
       "3 2      2017-01-05 1.3244  \n",
       "4 3      2017-01-06 1.3214  \n",
       "5 4      2017-01-09 1.3240  \n",
       "6 5      2017-01-10 1.3213  "
      ]
     },
     "metadata": {},
     "output_type": "display_data"
    }
   ],
   "source": [
    "#Creating a dataframe from website data\n",
    "Crop_df <- read.csv('https://cf-courses-data.s3.us.cloud-object-storage.appdomain.cloud/IBM-RP0203EN-SkillsNetwork/labs/Final%20Project/Annual_Crop_Data.csv', colClasses=c(YEAR=\"character\"))\n",
    "    Bank_df <- read.csv('https://cf-courses-data.s3.us.cloud-object-storage.appdomain.cloud/IBM-RP0203EN-SkillsNetwork/labs/Final%20Project/Daily_FX.csv', colClasses=c(date=\"character\"))\n",
    "\n",
    "    head(Crop_df)\n",
    "    head(Bank_df)"
   ]
  },
  {
   "cell_type": "code",
   "execution_count": 2,
   "metadata": {},
   "outputs": [],
   "source": [
    "#Creating database connection\n",
    "dsn_driver <- \"IBM DB2 ODBC Driver\"\n",
    "dsn_database <- \"bludb\"           \n",
    "dsn_hostname <- \"98538591-7217-4024-b027-8baa776ffad1.c3n41cmd0nqnrk39u98g.databases.appdomain.cloud\" \n",
    "dsn_port <- \"30875\"    \n",
    "dsn_protocol <- \"TCPIP\"            \n",
    "dsn_uid <- \"vfx98987\"        \n",
    "dsn_pwd <- \"Password\"      \n",
    "dsn_security <- \"ssl\"\n",
    "\n"
   ]
  },
  {
   "cell_type": "code",
   "execution_count": 3,
   "metadata": {},
   "outputs": [
    {
     "data": {
      "text/plain": [
       "RODBC Connection 1\n",
       "Details:\n",
       "  case=nochange\n",
       "  DRIVER=IBM DB2 ODBC DRIVER\n",
       "  UID=vfx98987\n",
       "  PWD=******\n",
       "  DATABASE=bludb\n",
       "  HOSTNAME=98538591-7217-4024-b027-8baa776ffad1.c3n41cmd0nqnrk39u98g.databases.appdomain.cloud\n",
       "  PORT=30875\n",
       "  PROTOCOL=TCPIP\n",
       "  SECURITY=SSL"
      ]
     },
     "metadata": {},
     "output_type": "display_data"
    }
   ],
   "source": [
    "library(RODBC);\n",
    "#Connecting to the databse\n",
    "conn_path <- paste(\"DRIVER=\",dsn_driver,\n",
    "                  \";DATABASE=\",dsn_database,\n",
    "                  \";HOSTNAME=\",dsn_hostname,\n",
    "                  \";PORT=\",dsn_port,\n",
    "                  \";PROTOCOL=\",dsn_protocol,\n",
    "                  \";UID=\",dsn_uid,\n",
    "                  \";PWD=\",dsn_pwd,\n",
    "                  \";SECURITY=\",dsn_security,        \n",
    "                    sep=\"\")\n",
    "conn <- odbcDriverConnect(conn_path)\n",
    "conn"
   ]
  },
  {
   "cell_type": "code",
   "execution_count": 4,
   "metadata": {},
   "outputs": [
    {
     "data": {
      "text/html": [
       "<strong>DBMS_Name:</strong> 'DB2/LINUXX8664'"
      ],
      "text/latex": [
       "\\textbf{DBMS\\textbackslash{}\\_Name:} 'DB2/LINUXX8664'"
      ],
      "text/markdown": [
       "**DBMS_Name:** 'DB2/LINUXX8664'"
      ],
      "text/plain": [
       "       DBMS_Name \n",
       "\"DB2/LINUXX8664\" "
      ]
     },
     "metadata": {},
     "output_type": "display_data"
    },
    {
     "data": {
      "text/html": [
       "<strong>DBMS_Ver:</strong> '11.05.0700'"
      ],
      "text/latex": [
       "\\textbf{DBMS\\textbackslash{}\\_Ver:} '11.05.0700'"
      ],
      "text/markdown": [
       "**DBMS_Ver:** '11.05.0700'"
      ],
      "text/plain": [
       "    DBMS_Ver \n",
       "\"11.05.0700\" "
      ]
     },
     "metadata": {},
     "output_type": "display_data"
    },
    {
     "data": {
      "text/html": [
       "<strong>Driver_ODBC_Ver:</strong> '03.51'"
      ],
      "text/latex": [
       "\\textbf{Driver\\textbackslash{}\\_ODBC\\textbackslash{}\\_Ver:} '03.51'"
      ],
      "text/markdown": [
       "**Driver_ODBC_Ver:** '03.51'"
      ],
      "text/plain": [
       "Driver_ODBC_Ver \n",
       "        \"03.51\" "
      ]
     },
     "metadata": {},
     "output_type": "display_data"
    }
   ],
   "source": [
    "#Viewing database driver information\n",
    "sql.info <- sqlTypeInfo(conn)\n",
    "conn.info <- odbcGetInfo(conn)\n",
    "conn.info[\"DBMS_Name\"]\n",
    "conn.info[\"DBMS_Ver\"]\n",
    "conn.info[\"Driver_ODBC_Ver\"]"
   ]
  },
  {
   "cell_type": "code",
   "execution_count": 5,
   "metadata": {},
   "outputs": [
    {
     "name": "stdout",
     "output_type": "stream",
     "text": [
      "Table:  CROP  was dropped\n",
      "Table:  BANKEX  was dropped\n"
     ]
    }
   ],
   "source": [
    "#checking if the tables exist and dropping them if they exist\n",
    "myschema <- \"VFX98987\" \n",
    "    tables <- c(\"CROP\", \"BANKEX\") \n",
    "\n",
    "    for (table in tables) {\n",
    "        # Drop tables if they already exist\n",
    "        out <- sqlTables(conn, tableType = \"TABLE\",\n",
    "                          tableName = table)\n",
    "        if (nrow(out)>0) {\n",
    "            err <- sqlDrop(conn, table,\n",
    "                            errors=FALSE)  \n",
    "            if (err==-1) {\n",
    "                cat(\"An error has occurred.\\n\")\n",
    "                err.msg <- odbcGetErrMsg(conn)\n",
    "                for (error in err.msg) { \n",
    "                    cat(error,\"\\n\")\n",
    "                }\n",
    "            } \n",
    "            else {\n",
    "                cat (\"Table: \",table,\" was dropped\\n\")\n",
    "            }\n",
    "        }\n",
    "        else {\n",
    "              cat (\"Table: \", table,\" does not exist\\n\")\n",
    "        }\n",
    "    }\n",
    "\n"
   ]
  },
  {
   "cell_type": "code",
   "execution_count": 6,
   "metadata": {},
   "outputs": [],
   "source": [
    "#Creat table CROP\n",
    "df1 <- sqlQuery(conn, \"CREATE TABLE CROP (\n",
    "                            CD_ID VARCHAR(6) NOT NULL, \n",
    "                            YEAR VARCHAR(10) NOT NULL, \n",
    "                            CROP_TYPE VARCHAR(50) NOT NULL, \n",
    "                            GEO VARCHAR(50) NOT NULL, \n",
    "                            SEED_AREA INTEGER NOT NULL,\n",
    "                            HARVESTED_AREA INTEGER NOT NULL,\n",
    "                            PRODUCTION INTEGER NOT NULL,\n",
    "                            AVG_YEILD INTEGER NOT NULL,\n",
    "                            PRIMARY KEY (CD_ID))\", \n",
    "                errors=FALSE)"
   ]
  },
  {
   "cell_type": "code",
   "execution_count": 7,
   "metadata": {},
   "outputs": [
    {
     "name": "stdout",
     "output_type": "stream",
     "text": [
      "Table was created successfully.\n"
     ]
    }
   ],
   "source": [
    "if (df1 == -1){\n",
    "  cat (\"An error has occurred.\\n\")\n",
    "  msg <- odbcGetErrMsg(conn)\n",
    "  print (msg)\n",
    "} else {\n",
    "  cat (\"Table was created successfully.\\n\")\n",
    "}"
   ]
  },
  {
   "cell_type": "code",
   "execution_count": 8,
   "metadata": {},
   "outputs": [],
   "source": [
    "#Creat table BANKEX\n",
    "df2 <- sqlQuery(conn, \"CREATE TABLE BANKEX (\n",
    "                            DFX_ID CHAR(6) NOT NULL, \n",
    "                            DATE VARCHAR(10) NOT NULL, \n",
    "                            FXUSDCAD FLOAT(6) , \n",
    "                            \n",
    "                            PRIMARY KEY (DFX_ID))\", \n",
    "                errors=FALSE)"
   ]
  },
  {
   "cell_type": "code",
   "execution_count": 9,
   "metadata": {},
   "outputs": [
    {
     "name": "stdout",
     "output_type": "stream",
     "text": [
      "Table was created successfully.\n"
     ]
    }
   ],
   "source": [
    "if (df2 == -1){\n",
    "  cat (\"An error has occurred.\\n\")\n",
    "  msg <- odbcGetErrMsg(conn)\n",
    "  print (msg)\n",
    "} else {\n",
    "  cat (\"Table was created successfully.\\n\")\n",
    "}"
   ]
  },
  {
   "cell_type": "code",
   "execution_count": 10,
   "metadata": {},
   "outputs": [],
   "source": [
    "#Saving crop data into created table crop\n",
    "sqlSave(conn, Crop_df, \"CROP\" ,append=TRUE, fast=FALSE,rownames=FALSE, colnames=FALSE, verbose=FALSE)"
   ]
  },
  {
   "cell_type": "code",
   "execution_count": 11,
   "metadata": {},
   "outputs": [],
   "source": [
    "#Saving bank data into created table bankex\n",
    "sqlSave(conn, Bank_df, \"BANKEX\" ,append=TRUE, fast=FALSE,rownames=FALSE, colnames=FALSE, verbose=FALSE)"
   ]
  },
  {
   "cell_type": "code",
   "execution_count": 12,
   "metadata": {},
   "outputs": [
    {
     "data": {
      "text/html": [
       "<table>\n",
       "<caption>A data.frame: 1 × 1</caption>\n",
       "<thead>\n",
       "\t<tr><th></th><th scope=col>1</th></tr>\n",
       "\t<tr><th></th><th scope=col>&lt;int&gt;</th></tr>\n",
       "</thead>\n",
       "<tbody>\n",
       "\t<tr><th scope=row>1</th><td>672</td></tr>\n",
       "</tbody>\n",
       "</table>\n"
      ],
      "text/latex": [
       "A data.frame: 1 × 1\n",
       "\\begin{tabular}{r|l}\n",
       "  & 1\\\\\n",
       "  & <int>\\\\\n",
       "\\hline\n",
       "\t1 & 672\\\\\n",
       "\\end{tabular}\n"
      ],
      "text/markdown": [
       "\n",
       "A data.frame: 1 × 1\n",
       "\n",
       "| <!--/--> | 1 &lt;int&gt; |\n",
       "|---|---|\n",
       "| 1 | 672 |\n",
       "\n"
      ],
      "text/plain": [
       "  1  \n",
       "1 672"
      ]
     },
     "metadata": {},
     "output_type": "display_data"
    },
    {
     "data": {
      "text/html": [
       "<table>\n",
       "<caption>A data.frame: 1 × 1</caption>\n",
       "<thead>\n",
       "\t<tr><th></th><th scope=col>1</th></tr>\n",
       "\t<tr><th></th><th scope=col>&lt;int&gt;</th></tr>\n",
       "</thead>\n",
       "<tbody>\n",
       "\t<tr><th scope=row>1</th><td>1033</td></tr>\n",
       "</tbody>\n",
       "</table>\n"
      ],
      "text/latex": [
       "A data.frame: 1 × 1\n",
       "\\begin{tabular}{r|l}\n",
       "  & 1\\\\\n",
       "  & <int>\\\\\n",
       "\\hline\n",
       "\t1 & 1033\\\\\n",
       "\\end{tabular}\n"
      ],
      "text/markdown": [
       "\n",
       "A data.frame: 1 × 1\n",
       "\n",
       "| <!--/--> | 1 &lt;int&gt; |\n",
       "|---|---|\n",
       "| 1 | 1033 |\n",
       "\n"
      ],
      "text/plain": [
       "  1   \n",
       "1 1033"
      ]
     },
     "metadata": {},
     "output_type": "display_data"
    }
   ],
   "source": [
    "#Checking data size or number of rows in given data\n",
    "query = \"SELECT COUNT(CD_ID) FROM CROP\"\n",
    "    sqlQuery(conn,query)\n",
    "    \n",
    "query = \"SELECT COUNT(DFX_ID) FROM BANKEX\"\n",
    "    sqlQuery(conn,query)"
   ]
  },
  {
   "cell_type": "code",
   "execution_count": 13,
   "metadata": {},
   "outputs": [
    {
     "data": {
      "text/html": [
       "<table>\n",
       "<caption>A data.frame: 6 × 8</caption>\n",
       "<thead>\n",
       "\t<tr><th></th><th scope=col>CD_ID</th><th scope=col>YEAR</th><th scope=col>CROP_TYPE</th><th scope=col>GEO</th><th scope=col>SEED_AREA</th><th scope=col>HARVESTED_AREA</th><th scope=col>PRODUCTION</th><th scope=col>AVG_YEILD</th></tr>\n",
       "\t<tr><th></th><th scope=col>&lt;int&gt;</th><th scope=col>&lt;fct&gt;</th><th scope=col>&lt;fct&gt;</th><th scope=col>&lt;fct&gt;</th><th scope=col>&lt;int&gt;</th><th scope=col>&lt;int&gt;</th><th scope=col>&lt;int&gt;</th><th scope=col>&lt;int&gt;</th></tr>\n",
       "</thead>\n",
       "<tbody>\n",
       "\t<tr><th scope=row>1</th><td>0</td><td>1965-12-31</td><td>Barley</td><td>Alberta     </td><td>1372000</td><td>1372000</td><td>2504000</td><td>1825</td></tr>\n",
       "\t<tr><th scope=row>2</th><td>1</td><td>1965-12-31</td><td>Barley</td><td>Canada      </td><td>2476800</td><td>2476800</td><td>4752900</td><td>1920</td></tr>\n",
       "\t<tr><th scope=row>3</th><td>2</td><td>1965-12-31</td><td>Barley</td><td>Saskatchewan</td><td> 708000</td><td> 708000</td><td>1415000</td><td>2000</td></tr>\n",
       "\t<tr><th scope=row>4</th><td>3</td><td>1965-12-31</td><td>Canola</td><td>Alberta     </td><td> 297400</td><td> 297400</td><td> 215500</td><td> 725</td></tr>\n",
       "\t<tr><th scope=row>5</th><td>4</td><td>1965-12-31</td><td>Canola</td><td>Canada      </td><td> 580700</td><td> 580700</td><td> 512600</td><td> 885</td></tr>\n",
       "\t<tr><th scope=row>6</th><td>5</td><td>1965-12-31</td><td>Canola</td><td>Saskatchewan</td><td> 224600</td><td> 224600</td><td> 242700</td><td>1080</td></tr>\n",
       "</tbody>\n",
       "</table>\n"
      ],
      "text/latex": [
       "A data.frame: 6 × 8\n",
       "\\begin{tabular}{r|llllllll}\n",
       "  & CD\\_ID & YEAR & CROP\\_TYPE & GEO & SEED\\_AREA & HARVESTED\\_AREA & PRODUCTION & AVG\\_YEILD\\\\\n",
       "  & <int> & <fct> & <fct> & <fct> & <int> & <int> & <int> & <int>\\\\\n",
       "\\hline\n",
       "\t1 & 0 & 1965-12-31 & Barley & Alberta      & 1372000 & 1372000 & 2504000 & 1825\\\\\n",
       "\t2 & 1 & 1965-12-31 & Barley & Canada       & 2476800 & 2476800 & 4752900 & 1920\\\\\n",
       "\t3 & 2 & 1965-12-31 & Barley & Saskatchewan &  708000 &  708000 & 1415000 & 2000\\\\\n",
       "\t4 & 3 & 1965-12-31 & Canola & Alberta      &  297400 &  297400 &  215500 &  725\\\\\n",
       "\t5 & 4 & 1965-12-31 & Canola & Canada       &  580700 &  580700 &  512600 &  885\\\\\n",
       "\t6 & 5 & 1965-12-31 & Canola & Saskatchewan &  224600 &  224600 &  242700 & 1080\\\\\n",
       "\\end{tabular}\n"
      ],
      "text/markdown": [
       "\n",
       "A data.frame: 6 × 8\n",
       "\n",
       "| <!--/--> | CD_ID &lt;int&gt; | YEAR &lt;fct&gt; | CROP_TYPE &lt;fct&gt; | GEO &lt;fct&gt; | SEED_AREA &lt;int&gt; | HARVESTED_AREA &lt;int&gt; | PRODUCTION &lt;int&gt; | AVG_YEILD &lt;int&gt; |\n",
       "|---|---|---|---|---|---|---|---|---|\n",
       "| 1 | 0 | 1965-12-31 | Barley | Alberta      | 1372000 | 1372000 | 2504000 | 1825 |\n",
       "| 2 | 1 | 1965-12-31 | Barley | Canada       | 2476800 | 2476800 | 4752900 | 1920 |\n",
       "| 3 | 2 | 1965-12-31 | Barley | Saskatchewan |  708000 |  708000 | 1415000 | 2000 |\n",
       "| 4 | 3 | 1965-12-31 | Canola | Alberta      |  297400 |  297400 |  215500 |  725 |\n",
       "| 5 | 4 | 1965-12-31 | Canola | Canada       |  580700 |  580700 |  512600 |  885 |\n",
       "| 6 | 5 | 1965-12-31 | Canola | Saskatchewan |  224600 |  224600 |  242700 | 1080 |\n",
       "\n"
      ],
      "text/plain": [
       "  CD_ID YEAR       CROP_TYPE GEO          SEED_AREA HARVESTED_AREA PRODUCTION\n",
       "1 0     1965-12-31 Barley    Alberta      1372000   1372000        2504000   \n",
       "2 1     1965-12-31 Barley    Canada       2476800   2476800        4752900   \n",
       "3 2     1965-12-31 Barley    Saskatchewan  708000    708000        1415000   \n",
       "4 3     1965-12-31 Canola    Alberta       297400    297400         215500   \n",
       "5 4     1965-12-31 Canola    Canada        580700    580700         512600   \n",
       "6 5     1965-12-31 Canola    Saskatchewan  224600    224600         242700   \n",
       "  AVG_YEILD\n",
       "1 1825     \n",
       "2 1920     \n",
       "3 2000     \n",
       "4  725     \n",
       "5  885     \n",
       "6 1080     "
      ]
     },
     "metadata": {},
     "output_type": "display_data"
    }
   ],
   "source": [
    "#Using SQL to display initial data\n",
    "query <- \"SELECT * FROM CROP LIMIT 6;\"\n",
    "    view <- sqlQuery(conn,query)\n",
    "    view"
   ]
  },
  {
   "cell_type": "code",
   "execution_count": 14,
   "metadata": {},
   "outputs": [
    {
     "data": {
      "text/html": [
       "<table>\n",
       "<caption>A data.frame: 4 × 1</caption>\n",
       "<thead>\n",
       "\t<tr><th></th><th scope=col>CROP_TYPE</th></tr>\n",
       "\t<tr><th></th><th scope=col>&lt;fct&gt;</th></tr>\n",
       "</thead>\n",
       "<tbody>\n",
       "\t<tr><th scope=row>1</th><td>Barley</td></tr>\n",
       "\t<tr><th scope=row>2</th><td>Canola</td></tr>\n",
       "\t<tr><th scope=row>3</th><td>Rye   </td></tr>\n",
       "\t<tr><th scope=row>4</th><td>Wheat </td></tr>\n",
       "</tbody>\n",
       "</table>\n"
      ],
      "text/latex": [
       "A data.frame: 4 × 1\n",
       "\\begin{tabular}{r|l}\n",
       "  & CROP\\_TYPE\\\\\n",
       "  & <fct>\\\\\n",
       "\\hline\n",
       "\t1 & Barley\\\\\n",
       "\t2 & Canola\\\\\n",
       "\t3 & Rye   \\\\\n",
       "\t4 & Wheat \\\\\n",
       "\\end{tabular}\n"
      ],
      "text/markdown": [
       "\n",
       "A data.frame: 4 × 1\n",
       "\n",
       "| <!--/--> | CROP_TYPE &lt;fct&gt; |\n",
       "|---|---|\n",
       "| 1 | Barley |\n",
       "| 2 | Canola |\n",
       "| 3 | Rye    |\n",
       "| 4 | Wheat  |\n",
       "\n"
      ],
      "text/plain": [
       "  CROP_TYPE\n",
       "1 Barley   \n",
       "2 Canola   \n",
       "3 Rye      \n",
       "4 Wheat    "
      ]
     },
     "metadata": {},
     "output_type": "display_data"
    }
   ],
   "source": [
    "#Checking the various types of crops in the table using SQL and R\n",
    "query <- \"SELECT DISTINCT(CROP_TYPE) FROM CROP;\"\n",
    "    view <- sqlQuery(conn,query)\n",
    "    view"
   ]
  },
  {
   "cell_type": "code",
   "execution_count": 15,
   "metadata": {},
   "outputs": [
    {
     "data": {
      "text/html": [
       "<table>\n",
       "<caption>A data.frame: 6 × 8</caption>\n",
       "<thead>\n",
       "\t<tr><th></th><th scope=col>CD_ID</th><th scope=col>YEAR</th><th scope=col>CROP_TYPE</th><th scope=col>GEO</th><th scope=col>SEED_AREA</th><th scope=col>HARVESTED_AREA</th><th scope=col>PRODUCTION</th><th scope=col>AVG_YEILD</th></tr>\n",
       "\t<tr><th></th><th scope=col>&lt;int&gt;</th><th scope=col>&lt;fct&gt;</th><th scope=col>&lt;fct&gt;</th><th scope=col>&lt;fct&gt;</th><th scope=col>&lt;int&gt;</th><th scope=col>&lt;int&gt;</th><th scope=col>&lt;int&gt;</th><th scope=col>&lt;int&gt;</th></tr>\n",
       "</thead>\n",
       "<tbody>\n",
       "\t<tr><th scope=row>1</th><td> 6</td><td>1965-12-31</td><td>Rye</td><td>Alberta     </td><td> 81000</td><td> 81000</td><td>116400</td><td>1435</td></tr>\n",
       "\t<tr><th scope=row>2</th><td> 7</td><td>1965-12-31</td><td>Rye</td><td>Canada      </td><td>323900</td><td>323900</td><td>453400</td><td>1400</td></tr>\n",
       "\t<tr><th scope=row>3</th><td> 8</td><td>1965-12-31</td><td>Rye</td><td>Saskatchewan</td><td>166000</td><td>166000</td><td>224000</td><td>1350</td></tr>\n",
       "\t<tr><th scope=row>4</th><td>18</td><td>1966-12-31</td><td>Rye</td><td>Alberta     </td><td> 70000</td><td> 70000</td><td>109000</td><td>1555</td></tr>\n",
       "\t<tr><th scope=row>5</th><td>19</td><td>1966-12-31</td><td>Rye</td><td>Canada      </td><td>293400</td><td>293400</td><td>437600</td><td>1490</td></tr>\n",
       "\t<tr><th scope=row>6</th><td>20</td><td>1966-12-31</td><td>Rye</td><td>Saskatchewan</td><td>161000</td><td>161000</td><td>228600</td><td>1420</td></tr>\n",
       "</tbody>\n",
       "</table>\n"
      ],
      "text/latex": [
       "A data.frame: 6 × 8\n",
       "\\begin{tabular}{r|llllllll}\n",
       "  & CD\\_ID & YEAR & CROP\\_TYPE & GEO & SEED\\_AREA & HARVESTED\\_AREA & PRODUCTION & AVG\\_YEILD\\\\\n",
       "  & <int> & <fct> & <fct> & <fct> & <int> & <int> & <int> & <int>\\\\\n",
       "\\hline\n",
       "\t1 &  6 & 1965-12-31 & Rye & Alberta      &  81000 &  81000 & 116400 & 1435\\\\\n",
       "\t2 &  7 & 1965-12-31 & Rye & Canada       & 323900 & 323900 & 453400 & 1400\\\\\n",
       "\t3 &  8 & 1965-12-31 & Rye & Saskatchewan & 166000 & 166000 & 224000 & 1350\\\\\n",
       "\t4 & 18 & 1966-12-31 & Rye & Alberta      &  70000 &  70000 & 109000 & 1555\\\\\n",
       "\t5 & 19 & 1966-12-31 & Rye & Canada       & 293400 & 293400 & 437600 & 1490\\\\\n",
       "\t6 & 20 & 1966-12-31 & Rye & Saskatchewan & 161000 & 161000 & 228600 & 1420\\\\\n",
       "\\end{tabular}\n"
      ],
      "text/markdown": [
       "\n",
       "A data.frame: 6 × 8\n",
       "\n",
       "| <!--/--> | CD_ID &lt;int&gt; | YEAR &lt;fct&gt; | CROP_TYPE &lt;fct&gt; | GEO &lt;fct&gt; | SEED_AREA &lt;int&gt; | HARVESTED_AREA &lt;int&gt; | PRODUCTION &lt;int&gt; | AVG_YEILD &lt;int&gt; |\n",
       "|---|---|---|---|---|---|---|---|---|\n",
       "| 1 |  6 | 1965-12-31 | Rye | Alberta      |  81000 |  81000 | 116400 | 1435 |\n",
       "| 2 |  7 | 1965-12-31 | Rye | Canada       | 323900 | 323900 | 453400 | 1400 |\n",
       "| 3 |  8 | 1965-12-31 | Rye | Saskatchewan | 166000 | 166000 | 224000 | 1350 |\n",
       "| 4 | 18 | 1966-12-31 | Rye | Alberta      |  70000 |  70000 | 109000 | 1555 |\n",
       "| 5 | 19 | 1966-12-31 | Rye | Canada       | 293400 | 293400 | 437600 | 1490 |\n",
       "| 6 | 20 | 1966-12-31 | Rye | Saskatchewan | 161000 | 161000 | 228600 | 1420 |\n",
       "\n"
      ],
      "text/plain": [
       "  CD_ID YEAR       CROP_TYPE GEO          SEED_AREA HARVESTED_AREA PRODUCTION\n",
       "1  6    1965-12-31 Rye       Alberta       81000     81000         116400    \n",
       "2  7    1965-12-31 Rye       Canada       323900    323900         453400    \n",
       "3  8    1965-12-31 Rye       Saskatchewan 166000    166000         224000    \n",
       "4 18    1966-12-31 Rye       Alberta       70000     70000         109000    \n",
       "5 19    1966-12-31 Rye       Canada       293400    293400         437600    \n",
       "6 20    1966-12-31 Rye       Saskatchewan 161000    161000         228600    \n",
       "  AVG_YEILD\n",
       "1 1435     \n",
       "2 1400     \n",
       "3 1350     \n",
       "4 1555     \n",
       "5 1490     \n",
       "6 1420     "
      ]
     },
     "metadata": {},
     "output_type": "display_data"
    }
   ],
   "source": [
    "#Checking all details where crop is Rye for 6 entries\n",
    "query <- \"SELECT * FROM CROP WHERE CROP_TYPE='Rye' LIMIT 6;\"\n",
    "    view <- sqlQuery(conn,query)\n",
    "    view"
   ]
  },
  {
   "cell_type": "code",
   "execution_count": 16,
   "metadata": {},
   "outputs": [
    {
     "data": {
      "text/html": [
       "<table>\n",
       "<caption>A data.frame: 3 × 1</caption>\n",
       "<thead>\n",
       "\t<tr><th></th><th scope=col>CROP_TYPE</th></tr>\n",
       "\t<tr><th></th><th scope=col>&lt;fct&gt;</th></tr>\n",
       "</thead>\n",
       "<tbody>\n",
       "\t<tr><th scope=row>1</th><td>Barley</td></tr>\n",
       "\t<tr><th scope=row>2</th><td>Rye   </td></tr>\n",
       "\t<tr><th scope=row>3</th><td>Wheat </td></tr>\n",
       "</tbody>\n",
       "</table>\n"
      ],
      "text/latex": [
       "A data.frame: 3 × 1\n",
       "\\begin{tabular}{r|l}\n",
       "  & CROP\\_TYPE\\\\\n",
       "  & <fct>\\\\\n",
       "\\hline\n",
       "\t1 & Barley\\\\\n",
       "\t2 & Rye   \\\\\n",
       "\t3 & Wheat \\\\\n",
       "\\end{tabular}\n"
      ],
      "text/markdown": [
       "\n",
       "A data.frame: 3 × 1\n",
       "\n",
       "| <!--/--> | CROP_TYPE &lt;fct&gt; |\n",
       "|---|---|\n",
       "| 1 | Barley |\n",
       "| 2 | Rye    |\n",
       "| 3 | Wheat  |\n",
       "\n"
      ],
      "text/plain": [
       "  CROP_TYPE\n",
       "1 Barley   \n",
       "2 Rye      \n",
       "3 Wheat    "
      ]
     },
     "metadata": {},
     "output_type": "display_data"
    }
   ],
   "source": [
    "#Checking which crops have an average yeild greater than or equal to 3000 hectare\n",
    "query <- \"SELECT DISTINCT(CROP_TYPE) FROM CROP WHERE AVG_YEILD>=3000;\"\n",
    "    view <- sqlQuery(conn,query)\n",
    "    view\n"
   ]
  },
  {
   "cell_type": "code",
   "execution_count": 17,
   "metadata": {},
   "outputs": [
    {
     "data": {
      "text/html": [
       "<table>\n",
       "<caption>A data.frame: 1 × 2</caption>\n",
       "<thead>\n",
       "\t<tr><th></th><th scope=col>FIRST</th><th scope=col>LAST</th></tr>\n",
       "\t<tr><th></th><th scope=col>&lt;fct&gt;</th><th scope=col>&lt;fct&gt;</th></tr>\n",
       "</thead>\n",
       "<tbody>\n",
       "\t<tr><th scope=row>1</th><td>1965-12-31</td><td>2020-12-31</td></tr>\n",
       "</tbody>\n",
       "</table>\n"
      ],
      "text/latex": [
       "A data.frame: 1 × 2\n",
       "\\begin{tabular}{r|ll}\n",
       "  & FIRST & LAST\\\\\n",
       "  & <fct> & <fct>\\\\\n",
       "\\hline\n",
       "\t1 & 1965-12-31 & 2020-12-31\\\\\n",
       "\\end{tabular}\n"
      ],
      "text/markdown": [
       "\n",
       "A data.frame: 1 × 2\n",
       "\n",
       "| <!--/--> | FIRST &lt;fct&gt; | LAST &lt;fct&gt; |\n",
       "|---|---|---|\n",
       "| 1 | 1965-12-31 | 2020-12-31 |\n",
       "\n"
      ],
      "text/plain": [
       "  FIRST      LAST      \n",
       "1 1965-12-31 2020-12-31"
      ]
     },
     "metadata": {},
     "output_type": "display_data"
    },
    {
     "data": {
      "text/html": [
       "<table>\n",
       "<caption>A data.frame: 1 × 2</caption>\n",
       "<thead>\n",
       "\t<tr><th></th><th scope=col>FIRST</th><th scope=col>LAST</th></tr>\n",
       "\t<tr><th></th><th scope=col>&lt;fct&gt;</th><th scope=col>&lt;fct&gt;</th></tr>\n",
       "</thead>\n",
       "<tbody>\n",
       "\t<tr><th scope=row>1</th><td>2017-01-03</td><td>2021-02-18</td></tr>\n",
       "</tbody>\n",
       "</table>\n"
      ],
      "text/latex": [
       "A data.frame: 1 × 2\n",
       "\\begin{tabular}{r|ll}\n",
       "  & FIRST & LAST\\\\\n",
       "  & <fct> & <fct>\\\\\n",
       "\\hline\n",
       "\t1 & 2017-01-03 & 2021-02-18\\\\\n",
       "\\end{tabular}\n"
      ],
      "text/markdown": [
       "\n",
       "A data.frame: 1 × 2\n",
       "\n",
       "| <!--/--> | FIRST &lt;fct&gt; | LAST &lt;fct&gt; |\n",
       "|---|---|---|\n",
       "| 1 | 2017-01-03 | 2021-02-18 |\n",
       "\n"
      ],
      "text/plain": [
       "  FIRST      LAST      \n",
       "1 2017-01-03 2021-02-18"
      ]
     },
     "metadata": {},
     "output_type": "display_data"
    }
   ],
   "source": [
    "#Checking the first and the last dates of each year\n",
    "\n",
    "query <- \"SELECT MIN(YEAR) FIRST, MAX(YEAR) LAST FROM CROP;\"\n",
    "    view <- sqlQuery(conn,query)\n",
    "    view\n",
    "\n",
    "\n",
    "query <- \"SELECT MIN(DATE) FIRST, MAX(DATE) LAST FROM BANKEX;\"\n",
    "    view <- sqlQuery(conn,query)\n",
    "    view"
   ]
  },
  {
   "cell_type": "code",
   "execution_count": 18,
   "metadata": {},
   "outputs": [
    {
     "data": {
      "text/html": [
       "<table>\n",
       "<caption>A data.frame: 10 × 2</caption>\n",
       "<thead>\n",
       "\t<tr><th></th><th scope=col>YEAR</th><th scope=col>HARVESTED_AREA</th></tr>\n",
       "\t<tr><th></th><th scope=col>&lt;fct&gt;</th><th scope=col>&lt;int&gt;</th></tr>\n",
       "</thead>\n",
       "<tbody>\n",
       "\t<tr><th scope=row>1</th><td>1986-12-31</td><td>8765400</td></tr>\n",
       "\t<tr><th scope=row>2</th><td>1991-12-31</td><td>8595120</td></tr>\n",
       "\t<tr><th scope=row>3</th><td>1983-12-31</td><td>8377000</td></tr>\n",
       "\t<tr><th scope=row>4</th><td>1985-12-31</td><td>8357000</td></tr>\n",
       "\t<tr><th scope=row>5</th><td>1990-12-31</td><td>8308200</td></tr>\n",
       "\t<tr><th scope=row>6</th><td>1992-12-31</td><td>8284100</td></tr>\n",
       "\t<tr><th scope=row>7</th><td>1987-12-31</td><td>8235400</td></tr>\n",
       "\t<tr><th scope=row>8</th><td>1989-12-31</td><td>8097700</td></tr>\n",
       "\t<tr><th scope=row>9</th><td>1984-12-31</td><td>8094000</td></tr>\n",
       "\t<tr><th scope=row>10</th><td>1967-12-31</td><td>7960000</td></tr>\n",
       "</tbody>\n",
       "</table>\n"
      ],
      "text/latex": [
       "A data.frame: 10 × 2\n",
       "\\begin{tabular}{r|ll}\n",
       "  & YEAR & HARVESTED\\_AREA\\\\\n",
       "  & <fct> & <int>\\\\\n",
       "\\hline\n",
       "\t1 & 1986-12-31 & 8765400\\\\\n",
       "\t2 & 1991-12-31 & 8595120\\\\\n",
       "\t3 & 1983-12-31 & 8377000\\\\\n",
       "\t4 & 1985-12-31 & 8357000\\\\\n",
       "\t5 & 1990-12-31 & 8308200\\\\\n",
       "\t6 & 1992-12-31 & 8284100\\\\\n",
       "\t7 & 1987-12-31 & 8235400\\\\\n",
       "\t8 & 1989-12-31 & 8097700\\\\\n",
       "\t9 & 1984-12-31 & 8094000\\\\\n",
       "\t10 & 1967-12-31 & 7960000\\\\\n",
       "\\end{tabular}\n"
      ],
      "text/markdown": [
       "\n",
       "A data.frame: 10 × 2\n",
       "\n",
       "| <!--/--> | YEAR &lt;fct&gt; | HARVESTED_AREA &lt;int&gt; |\n",
       "|---|---|---|\n",
       "| 1 | 1986-12-31 | 8765400 |\n",
       "| 2 | 1991-12-31 | 8595120 |\n",
       "| 3 | 1983-12-31 | 8377000 |\n",
       "| 4 | 1985-12-31 | 8357000 |\n",
       "| 5 | 1990-12-31 | 8308200 |\n",
       "| 6 | 1992-12-31 | 8284100 |\n",
       "| 7 | 1987-12-31 | 8235400 |\n",
       "| 8 | 1989-12-31 | 8097700 |\n",
       "| 9 | 1984-12-31 | 8094000 |\n",
       "| 10 | 1967-12-31 | 7960000 |\n",
       "\n"
      ],
      "text/plain": [
       "   YEAR       HARVESTED_AREA\n",
       "1  1986-12-31 8765400       \n",
       "2  1991-12-31 8595120       \n",
       "3  1983-12-31 8377000       \n",
       "4  1985-12-31 8357000       \n",
       "5  1990-12-31 8308200       \n",
       "6  1992-12-31 8284100       \n",
       "7  1987-12-31 8235400       \n",
       "8  1989-12-31 8097700       \n",
       "9  1984-12-31 8094000       \n",
       "10 1967-12-31 7960000       "
      ]
     },
     "metadata": {},
     "output_type": "display_data"
    }
   ],
   "source": [
    "#Selecting Top 10 years of Wheat production in Saskatechewan \n",
    "query <- \"SELECT YEAR, HARVESTED_AREA FROM CROP WHERE GEO='Saskatchewan' AND CROP_TYPE='Wheat' ORDER BY HARVESTED_AREA DESC LIMIT 10;\"\n",
    "    view <- sqlQuery(conn,query)\n",
    "    view\n"
   ]
  },
  {
   "cell_type": "code",
   "execution_count": 19,
   "metadata": {},
   "outputs": [
    {
     "data": {
      "text/html": [
       "<table>\n",
       "<caption>A data.frame: 1 × 1</caption>\n",
       "<thead>\n",
       "\t<tr><th></th><th scope=col>1</th></tr>\n",
       "\t<tr><th></th><th scope=col>&lt;int&gt;</th></tr>\n",
       "</thead>\n",
       "<tbody>\n",
       "\t<tr><th scope=row>1</th><td>52</td></tr>\n",
       "</tbody>\n",
       "</table>\n"
      ],
      "text/latex": [
       "A data.frame: 1 × 1\n",
       "\\begin{tabular}{r|l}\n",
       "  & 1\\\\\n",
       "  & <int>\\\\\n",
       "\\hline\n",
       "\t1 & 52\\\\\n",
       "\\end{tabular}\n"
      ],
      "text/markdown": [
       "\n",
       "A data.frame: 1 × 1\n",
       "\n",
       "| <!--/--> | 1 &lt;int&gt; |\n",
       "|---|---|\n",
       "| 1 | 52 |\n",
       "\n"
      ],
      "text/plain": [
       "  1 \n",
       "1 52"
      ]
     },
     "metadata": {},
     "output_type": "display_data"
    }
   ],
   "source": [
    "#Counting number of years when Barley yeild was greater than or equal to 2000KG in Canada\n",
    "query <- \"select count(distinct(Year)) from CROP where GEO='Canada' and CROP_TYPE='Barley' and AVG_YEILD>=2000;\"\n",
    "view <- sqlQuery(conn,query)\n",
    "view"
   ]
  },
  {
   "cell_type": "code",
   "execution_count": 20,
   "metadata": {},
   "outputs": [
    {
     "data": {
      "text/html": [
       "<table>\n",
       "<caption>A data.frame: 21 × 6</caption>\n",
       "<thead>\n",
       "\t<tr><th></th><th scope=col>1</th><th scope=col>GEO</th><th scope=col>CROP_TYPE</th><th scope=col>SEED_AREA</th><th scope=col>HARVESTED_AREA</th><th scope=col>UNHARVESTED_AREA</th></tr>\n",
       "\t<tr><th></th><th scope=col>&lt;int&gt;</th><th scope=col>&lt;fct&gt;</th><th scope=col>&lt;fct&gt;</th><th scope=col>&lt;int&gt;</th><th scope=col>&lt;int&gt;</th><th scope=col>&lt;int&gt;</th></tr>\n",
       "</thead>\n",
       "<tbody>\n",
       "\t<tr><th scope=row>1</th><td>2000</td><td>Alberta</td><td>Barley</td><td>2185300</td><td>1740100</td><td>20</td></tr>\n",
       "\t<tr><th scope=row>2</th><td>2001</td><td>Alberta</td><td>Barley</td><td>1983000</td><td>1618700</td><td>18</td></tr>\n",
       "\t<tr><th scope=row>3</th><td>2002</td><td>Alberta</td><td>Barley</td><td>2169100</td><td>1127000</td><td>48</td></tr>\n",
       "\t<tr><th scope=row>4</th><td>2003</td><td>Alberta</td><td>Barley</td><td>2144800</td><td>1788700</td><td>16</td></tr>\n",
       "\t<tr><th scope=row>5</th><td>2004</td><td>Alberta</td><td>Barley</td><td>1910100</td><td>1598500</td><td>16</td></tr>\n",
       "\t<tr><th scope=row>6</th><td>2005</td><td>Alberta</td><td>Barley</td><td>1709800</td><td>1456900</td><td>14</td></tr>\n",
       "\t<tr><th scope=row>7</th><td>2006</td><td>Alberta</td><td>Barley</td><td>1657100</td><td>1375900</td><td>16</td></tr>\n",
       "\t<tr><th scope=row>8</th><td>2007</td><td>Alberta</td><td>Barley</td><td>1962700</td><td>1728000</td><td>11</td></tr>\n",
       "\t<tr><th scope=row>9</th><td>2008</td><td>Alberta</td><td>Barley</td><td>1679400</td><td>1517600</td><td> 9</td></tr>\n",
       "\t<tr><th scope=row>10</th><td>2009</td><td>Alberta</td><td>Barley</td><td>1602600</td><td>1226200</td><td>23</td></tr>\n",
       "\t<tr><th scope=row>11</th><td>2010</td><td>Alberta</td><td>Barley</td><td>1509500</td><td>1264600</td><td>16</td></tr>\n",
       "\t<tr><th scope=row>12</th><td>2011</td><td>Alberta</td><td>Barley</td><td>1461000</td><td>1295000</td><td>11</td></tr>\n",
       "\t<tr><th scope=row>13</th><td>2012</td><td>Alberta</td><td>Barley</td><td>1537800</td><td>1384000</td><td>10</td></tr>\n",
       "\t<tr><th scope=row>14</th><td>2013</td><td>Alberta</td><td>Barley</td><td>1497300</td><td>1363800</td><td> 8</td></tr>\n",
       "\t<tr><th scope=row>15</th><td>2014</td><td>Alberta</td><td>Barley</td><td>1315200</td><td>1157400</td><td>11</td></tr>\n",
       "\t<tr><th scope=row>16</th><td>2015</td><td>Alberta</td><td>Barley</td><td>1416400</td><td>1167500</td><td>17</td></tr>\n",
       "\t<tr><th scope=row>17</th><td>2016</td><td>Alberta</td><td>Barley</td><td>1381600</td><td>1076500</td><td>22</td></tr>\n",
       "\t<tr><th scope=row>18</th><td>2017</td><td>Alberta</td><td>Barley</td><td>1153400</td><td>1011700</td><td>12</td></tr>\n",
       "\t<tr><th scope=row>19</th><td>2018</td><td>Alberta</td><td>Barley</td><td>1260200</td><td>1111600</td><td>11</td></tr>\n",
       "\t<tr><th scope=row>20</th><td>2019</td><td>Alberta</td><td>Barley</td><td>1441900</td><td>1272700</td><td>11</td></tr>\n",
       "\t<tr><th scope=row>21</th><td>2020</td><td>Alberta</td><td>Barley</td><td>1481800</td><td>1326200</td><td>10</td></tr>\n",
       "</tbody>\n",
       "</table>\n"
      ],
      "text/latex": [
       "A data.frame: 21 × 6\n",
       "\\begin{tabular}{r|llllll}\n",
       "  & 1 & GEO & CROP\\_TYPE & SEED\\_AREA & HARVESTED\\_AREA & UNHARVESTED\\_AREA\\\\\n",
       "  & <int> & <fct> & <fct> & <int> & <int> & <int>\\\\\n",
       "\\hline\n",
       "\t1 & 2000 & Alberta & Barley & 2185300 & 1740100 & 20\\\\\n",
       "\t2 & 2001 & Alberta & Barley & 1983000 & 1618700 & 18\\\\\n",
       "\t3 & 2002 & Alberta & Barley & 2169100 & 1127000 & 48\\\\\n",
       "\t4 & 2003 & Alberta & Barley & 2144800 & 1788700 & 16\\\\\n",
       "\t5 & 2004 & Alberta & Barley & 1910100 & 1598500 & 16\\\\\n",
       "\t6 & 2005 & Alberta & Barley & 1709800 & 1456900 & 14\\\\\n",
       "\t7 & 2006 & Alberta & Barley & 1657100 & 1375900 & 16\\\\\n",
       "\t8 & 2007 & Alberta & Barley & 1962700 & 1728000 & 11\\\\\n",
       "\t9 & 2008 & Alberta & Barley & 1679400 & 1517600 &  9\\\\\n",
       "\t10 & 2009 & Alberta & Barley & 1602600 & 1226200 & 23\\\\\n",
       "\t11 & 2010 & Alberta & Barley & 1509500 & 1264600 & 16\\\\\n",
       "\t12 & 2011 & Alberta & Barley & 1461000 & 1295000 & 11\\\\\n",
       "\t13 & 2012 & Alberta & Barley & 1537800 & 1384000 & 10\\\\\n",
       "\t14 & 2013 & Alberta & Barley & 1497300 & 1363800 &  8\\\\\n",
       "\t15 & 2014 & Alberta & Barley & 1315200 & 1157400 & 11\\\\\n",
       "\t16 & 2015 & Alberta & Barley & 1416400 & 1167500 & 17\\\\\n",
       "\t17 & 2016 & Alberta & Barley & 1381600 & 1076500 & 22\\\\\n",
       "\t18 & 2017 & Alberta & Barley & 1153400 & 1011700 & 12\\\\\n",
       "\t19 & 2018 & Alberta & Barley & 1260200 & 1111600 & 11\\\\\n",
       "\t20 & 2019 & Alberta & Barley & 1441900 & 1272700 & 11\\\\\n",
       "\t21 & 2020 & Alberta & Barley & 1481800 & 1326200 & 10\\\\\n",
       "\\end{tabular}\n"
      ],
      "text/markdown": [
       "\n",
       "A data.frame: 21 × 6\n",
       "\n",
       "| <!--/--> | 1 &lt;int&gt; | GEO &lt;fct&gt; | CROP_TYPE &lt;fct&gt; | SEED_AREA &lt;int&gt; | HARVESTED_AREA &lt;int&gt; | UNHARVESTED_AREA &lt;int&gt; |\n",
       "|---|---|---|---|---|---|---|\n",
       "| 1 | 2000 | Alberta | Barley | 2185300 | 1740100 | 20 |\n",
       "| 2 | 2001 | Alberta | Barley | 1983000 | 1618700 | 18 |\n",
       "| 3 | 2002 | Alberta | Barley | 2169100 | 1127000 | 48 |\n",
       "| 4 | 2003 | Alberta | Barley | 2144800 | 1788700 | 16 |\n",
       "| 5 | 2004 | Alberta | Barley | 1910100 | 1598500 | 16 |\n",
       "| 6 | 2005 | Alberta | Barley | 1709800 | 1456900 | 14 |\n",
       "| 7 | 2006 | Alberta | Barley | 1657100 | 1375900 | 16 |\n",
       "| 8 | 2007 | Alberta | Barley | 1962700 | 1728000 | 11 |\n",
       "| 9 | 2008 | Alberta | Barley | 1679400 | 1517600 |  9 |\n",
       "| 10 | 2009 | Alberta | Barley | 1602600 | 1226200 | 23 |\n",
       "| 11 | 2010 | Alberta | Barley | 1509500 | 1264600 | 16 |\n",
       "| 12 | 2011 | Alberta | Barley | 1461000 | 1295000 | 11 |\n",
       "| 13 | 2012 | Alberta | Barley | 1537800 | 1384000 | 10 |\n",
       "| 14 | 2013 | Alberta | Barley | 1497300 | 1363800 |  8 |\n",
       "| 15 | 2014 | Alberta | Barley | 1315200 | 1157400 | 11 |\n",
       "| 16 | 2015 | Alberta | Barley | 1416400 | 1167500 | 17 |\n",
       "| 17 | 2016 | Alberta | Barley | 1381600 | 1076500 | 22 |\n",
       "| 18 | 2017 | Alberta | Barley | 1153400 | 1011700 | 12 |\n",
       "| 19 | 2018 | Alberta | Barley | 1260200 | 1111600 | 11 |\n",
       "| 20 | 2019 | Alberta | Barley | 1441900 | 1272700 | 11 |\n",
       "| 21 | 2020 | Alberta | Barley | 1481800 | 1326200 | 10 |\n",
       "\n"
      ],
      "text/plain": [
       "   1    GEO     CROP_TYPE SEED_AREA HARVESTED_AREA UNHARVESTED_AREA\n",
       "1  2000 Alberta Barley    2185300   1740100        20              \n",
       "2  2001 Alberta Barley    1983000   1618700        18              \n",
       "3  2002 Alberta Barley    2169100   1127000        48              \n",
       "4  2003 Alberta Barley    2144800   1788700        16              \n",
       "5  2004 Alberta Barley    1910100   1598500        16              \n",
       "6  2005 Alberta Barley    1709800   1456900        14              \n",
       "7  2006 Alberta Barley    1657100   1375900        16              \n",
       "8  2007 Alberta Barley    1962700   1728000        11              \n",
       "9  2008 Alberta Barley    1679400   1517600         9              \n",
       "10 2009 Alberta Barley    1602600   1226200        23              \n",
       "11 2010 Alberta Barley    1509500   1264600        16              \n",
       "12 2011 Alberta Barley    1461000   1295000        11              \n",
       "13 2012 Alberta Barley    1537800   1384000        10              \n",
       "14 2013 Alberta Barley    1497300   1363800         8              \n",
       "15 2014 Alberta Barley    1315200   1157400        11              \n",
       "16 2015 Alberta Barley    1416400   1167500        17              \n",
       "17 2016 Alberta Barley    1381600   1076500        22              \n",
       "18 2017 Alberta Barley    1153400   1011700        12              \n",
       "19 2018 Alberta Barley    1260200   1111600        11              \n",
       "20 2019 Alberta Barley    1441900   1272700        11              \n",
       "21 2020 Alberta Barley    1481800   1326200        10              "
      ]
     },
     "metadata": {},
     "output_type": "display_data"
    }
   ],
   "source": [
    "#Selecting land seeded but not harvested with barley in Alberta since year 2000\n",
    "query <- \"select YEAR(YEAR),GEO,CROP_TYPE, SEED_AREA, HARVESTED_AREA,100*(SEED_AREA-HARVESTED_AREA)/SEED_AREA as UNHARVESTED_AREA from CROP where year(year)>=2000 and GEO='Alberta' and CROP_TYPE='Barley';\"\n",
    "view <- sqlQuery(conn,query)\n",
    "view"
   ]
  },
  {
   "cell_type": "code",
   "execution_count": 21,
   "metadata": {},
   "outputs": [
    {
     "data": {
      "text/html": [
       "<table>\n",
       "<caption>A data.frame: 1 × 1</caption>\n",
       "<thead>\n",
       "\t<tr><th></th><th scope=col>FX_DAILY_AVG_CAD</th></tr>\n",
       "\t<tr><th></th><th scope=col>&lt;dbl&gt;</th></tr>\n",
       "</thead>\n",
       "<tbody>\n",
       "\t<tr><th scope=row>1</th><td>1.314358</td></tr>\n",
       "</tbody>\n",
       "</table>\n"
      ],
      "text/latex": [
       "A data.frame: 1 × 1\n",
       "\\begin{tabular}{r|l}\n",
       "  & FX\\_DAILY\\_AVG\\_CAD\\\\\n",
       "  & <dbl>\\\\\n",
       "\\hline\n",
       "\t1 & 1.314358\\\\\n",
       "\\end{tabular}\n"
      ],
      "text/markdown": [
       "\n",
       "A data.frame: 1 × 1\n",
       "\n",
       "| <!--/--> | FX_DAILY_AVG_CAD &lt;dbl&gt; |\n",
       "|---|---|\n",
       "| 1 | 1.314358 |\n",
       "\n"
      ],
      "text/plain": [
       "  FX_DAILY_AVG_CAD\n",
       "1 1.314358        "
      ]
     },
     "metadata": {},
     "output_type": "display_data"
    }
   ],
   "source": [
    "#Selecting average value of Canadian Dollar over the last three years\n",
    "query <- \"SELECT  AVG(FXUSDCAD) AS FX_DAILY_AVG_CAD \n",
    "    FROM  BANKEX limit 3;\n",
    "    \"\n",
    "    view <- sqlQuery(conn,query)\n",
    "    view\n",
    "\n"
   ]
  },
  {
   "cell_type": "code",
   "execution_count": 22,
   "metadata": {},
   "outputs": [],
   "source": [
    "#Closing the Connection\n",
    "close(conn)"
   ]
  }
 ],
 "metadata": {
  "kernelspec": {
   "display_name": "R",
   "language": "R",
   "name": "conda-env-r-r"
  },
  "language_info": {
   "codemirror_mode": "r",
   "file_extension": ".r",
   "mimetype": "text/x-r-source",
   "name": "R",
   "pygments_lexer": "r",
   "version": "3.5.1"
  },
  "widgets": {
   "state": {},
   "version": "1.1.2"
  }
 },
 "nbformat": 4,
 "nbformat_minor": 4
}
