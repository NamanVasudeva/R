{
  "nbformat": 4,
  "nbformat_minor": 0,
  "metadata": {
    "colab": {
      "name": "Jupyter and R Data Frame.ipynb",
      "provenance": []
    },
    "kernelspec": {
      "name": "ir",
      "display_name": "R"
    },
    "language_info": {
      "name": "R"
    }
  },
  "cells": [
    {
      "cell_type": "code",
      "execution_count": 1,
      "metadata": {
        "id": "h8ikpAy3nlpg"
      },
      "outputs": [],
      "source": [
        "#creating a named list\n",
        "cars <- list(name = \"Swift\",\n",
        "             year = 2012,\n",
        "             type = c(\"Hatchback\", \"Adventure\", \"Efficiency\"))"
      ]
    },
    {
      "cell_type": "code",
      "source": [
        "#calling the list\n",
        "cars"
      ],
      "metadata": {
        "colab": {
          "base_uri": "https://localhost:8080/",
          "height": 149
        },
        "id": "e7KKs1yfnoJv",
        "outputId": "b56e6eb4-1c0d-4b0a-9b4f-c15483afbc15"
      },
      "execution_count": 2,
      "outputs": [
        {
          "output_type": "display_data",
          "data": {
            "text/html": [
              "<dl>\n",
              "\t<dt>$name</dt>\n",
              "\t\t<dd>'Swift'</dd>\n",
              "\t<dt>$year</dt>\n",
              "\t\t<dd>2012</dd>\n",
              "\t<dt>$type</dt>\n",
              "\t\t<dd><style>\n",
              ".list-inline {list-style: none; margin:0; padding: 0}\n",
              ".list-inline>li {display: inline-block}\n",
              ".list-inline>li:not(:last-child)::after {content: \"\\00b7\"; padding: 0 .5ex}\n",
              "</style>\n",
              "<ol class=list-inline><li>'Hatchback'</li><li>'Adventure'</li><li>'Efficiency'</li></ol>\n",
              "</dd>\n",
              "</dl>\n"
            ],
            "text/markdown": "$name\n:   'Swift'\n$year\n:   2012\n$type\n:   1. 'Hatchback'\n2. 'Adventure'\n3. 'Efficiency'\n\n\n\n\n\n",
            "text/latex": "\\begin{description}\n\\item[\\$name] 'Swift'\n\\item[\\$year] 2012\n\\item[\\$type] \\begin{enumerate*}\n\\item 'Hatchback'\n\\item 'Adventure'\n\\item 'Efficiency'\n\\end{enumerate*}\n\n\\end{description}\n",
            "text/plain": [
              "$name\n",
              "[1] \"Swift\"\n",
              "\n",
              "$year\n",
              "[1] 2012\n",
              "\n",
              "$type\n",
              "[1] \"Hatchback\"  \"Adventure\"  \"Efficiency\"\n"
            ]
          },
          "metadata": {}
        }
      ]
    },
    {
      "cell_type": "code",
      "source": [
        "#checking the type of cars\n",
        "cars$type"
      ],
      "metadata": {
        "colab": {
          "base_uri": "https://localhost:8080/",
          "height": 34
        },
        "id": "oIeVGzLGnr6D",
        "outputId": "480dd1cc-d415-4c12-d13f-374cf548923f"
      },
      "execution_count": 3,
      "outputs": [
        {
          "output_type": "display_data",
          "data": {
            "text/html": [
              "<style>\n",
              ".list-inline {list-style: none; margin:0; padding: 0}\n",
              ".list-inline>li {display: inline-block}\n",
              ".list-inline>li:not(:last-child)::after {content: \"\\00b7\"; padding: 0 .5ex}\n",
              "</style>\n",
              "<ol class=list-inline><li>'Hatchback'</li><li>'Adventure'</li><li>'Efficiency'</li></ol>\n"
            ],
            "text/markdown": "1. 'Hatchback'\n2. 'Adventure'\n3. 'Efficiency'\n\n\n",
            "text/latex": "\\begin{enumerate*}\n\\item 'Hatchback'\n\\item 'Adventure'\n\\item 'Efficiency'\n\\end{enumerate*}\n",
            "text/plain": [
              "[1] \"Hatchback\"  \"Adventure\"  \"Efficiency\""
            ]
          },
          "metadata": {}
        }
      ]
    },
    {
      "cell_type": "code",
      "source": [
        "#selecting items 2 to 3 as an array\n",
        "cars[2:3]"
      ],
      "metadata": {
        "colab": {
          "base_uri": "https://localhost:8080/",
          "height": 114
        },
        "id": "02HmaiwBoG4m",
        "outputId": "8becc8bc-8322-4c07-d9c0-d410bd7ae062"
      },
      "execution_count": 4,
      "outputs": [
        {
          "output_type": "display_data",
          "data": {
            "text/html": [
              "<dl>\n",
              "\t<dt>$year</dt>\n",
              "\t\t<dd>2012</dd>\n",
              "\t<dt>$type</dt>\n",
              "\t\t<dd><style>\n",
              ".list-inline {list-style: none; margin:0; padding: 0}\n",
              ".list-inline>li {display: inline-block}\n",
              ".list-inline>li:not(:last-child)::after {content: \"\\00b7\"; padding: 0 .5ex}\n",
              "</style>\n",
              "<ol class=list-inline><li>'Hatchback'</li><li>'Adventure'</li><li>'Efficiency'</li></ol>\n",
              "</dd>\n",
              "</dl>\n"
            ],
            "text/markdown": "$year\n:   2012\n$type\n:   1. 'Hatchback'\n2. 'Adventure'\n3. 'Efficiency'\n\n\n\n\n\n",
            "text/latex": "\\begin{description}\n\\item[\\$year] 2012\n\\item[\\$type] \\begin{enumerate*}\n\\item 'Hatchback'\n\\item 'Adventure'\n\\item 'Efficiency'\n\\end{enumerate*}\n\n\\end{description}\n",
            "text/plain": [
              "$year\n",
              "[1] 2012\n",
              "\n",
              "$type\n",
              "[1] \"Hatchback\"  \"Adventure\"  \"Efficiency\"\n"
            ]
          },
          "metadata": {}
        }
      ]
    },
    {
      "cell_type": "code",
      "source": [
        "#calling the type of object\n",
        "class(cars$name)\n",
        "class(cars$foreign)"
      ],
      "metadata": {
        "colab": {
          "base_uri": "https://localhost:8080/",
          "height": 52
        },
        "id": "oVWdg_o_oIks",
        "outputId": "401a9256-5a68-4e53-bb72-50b23513f8d4"
      },
      "execution_count": 5,
      "outputs": [
        {
          "output_type": "display_data",
          "data": {
            "text/html": [
              "'character'"
            ],
            "text/markdown": "'character'",
            "text/latex": "'character'",
            "text/plain": [
              "[1] \"character\""
            ]
          },
          "metadata": {}
        },
        {
          "output_type": "display_data",
          "data": {
            "text/html": [
              "'NULL'"
            ],
            "text/markdown": "'NULL'",
            "text/latex": "'NULL'",
            "text/plain": [
              "[1] \"NULL\""
            ]
          },
          "metadata": {}
        }
      ]
    },
    {
      "cell_type": "code",
      "source": [
        "#adding a new element\n",
        "cars[[\"cylinders\"]] <- 6\n",
        "cars"
      ],
      "metadata": {
        "colab": {
          "base_uri": "https://localhost:8080/",
          "height": 184
        },
        "id": "Id5nLpr6oXkS",
        "outputId": "277b5cdc-19db-4815-e86d-4e7e787dd6e9"
      },
      "execution_count": 6,
      "outputs": [
        {
          "output_type": "display_data",
          "data": {
            "text/html": [
              "<dl>\n",
              "\t<dt>$name</dt>\n",
              "\t\t<dd>'Swift'</dd>\n",
              "\t<dt>$year</dt>\n",
              "\t\t<dd>2012</dd>\n",
              "\t<dt>$type</dt>\n",
              "\t\t<dd><style>\n",
              ".list-inline {list-style: none; margin:0; padding: 0}\n",
              ".list-inline>li {display: inline-block}\n",
              ".list-inline>li:not(:last-child)::after {content: \"\\00b7\"; padding: 0 .5ex}\n",
              "</style>\n",
              "<ol class=list-inline><li>'Hatchback'</li><li>'Adventure'</li><li>'Efficiency'</li></ol>\n",
              "</dd>\n",
              "\t<dt>$cylinders</dt>\n",
              "\t\t<dd>6</dd>\n",
              "</dl>\n"
            ],
            "text/markdown": "$name\n:   'Swift'\n$year\n:   2012\n$type\n:   1. 'Hatchback'\n2. 'Adventure'\n3. 'Efficiency'\n\n\n\n$cylinders\n:   6\n\n\n",
            "text/latex": "\\begin{description}\n\\item[\\$name] 'Swift'\n\\item[\\$year] 2012\n\\item[\\$type] \\begin{enumerate*}\n\\item 'Hatchback'\n\\item 'Adventure'\n\\item 'Efficiency'\n\\end{enumerate*}\n\n\\item[\\$cylinders] 6\n\\end{description}\n",
            "text/plain": [
              "$name\n",
              "[1] \"Swift\"\n",
              "\n",
              "$year\n",
              "[1] 2012\n",
              "\n",
              "$type\n",
              "[1] \"Hatchback\"  \"Adventure\"  \"Efficiency\"\n",
              "\n",
              "$cylinders\n",
              "[1] 6\n"
            ]
          },
          "metadata": {}
        }
      ]
    },
    {
      "cell_type": "code",
      "source": [
        "#Modifying the elements\n",
        "cars[[\"cylinders\"]] <-2\n",
        "cars"
      ],
      "metadata": {
        "colab": {
          "base_uri": "https://localhost:8080/",
          "height": 184
        },
        "id": "EyCuKhlQo2ho",
        "outputId": "8b1605a1-bc5b-4f02-e653-b5d096afe215"
      },
      "execution_count": 7,
      "outputs": [
        {
          "output_type": "display_data",
          "data": {
            "text/html": [
              "<dl>\n",
              "\t<dt>$name</dt>\n",
              "\t\t<dd>'Swift'</dd>\n",
              "\t<dt>$year</dt>\n",
              "\t\t<dd>2012</dd>\n",
              "\t<dt>$type</dt>\n",
              "\t\t<dd><style>\n",
              ".list-inline {list-style: none; margin:0; padding: 0}\n",
              ".list-inline>li {display: inline-block}\n",
              ".list-inline>li:not(:last-child)::after {content: \"\\00b7\"; padding: 0 .5ex}\n",
              "</style>\n",
              "<ol class=list-inline><li>'Hatchback'</li><li>'Adventure'</li><li>'Efficiency'</li></ol>\n",
              "</dd>\n",
              "\t<dt>$cylinders</dt>\n",
              "\t\t<dd>2</dd>\n",
              "</dl>\n"
            ],
            "text/markdown": "$name\n:   'Swift'\n$year\n:   2012\n$type\n:   1. 'Hatchback'\n2. 'Adventure'\n3. 'Efficiency'\n\n\n\n$cylinders\n:   2\n\n\n",
            "text/latex": "\\begin{description}\n\\item[\\$name] 'Swift'\n\\item[\\$year] 2012\n\\item[\\$type] \\begin{enumerate*}\n\\item 'Hatchback'\n\\item 'Adventure'\n\\item 'Efficiency'\n\\end{enumerate*}\n\n\\item[\\$cylinders] 2\n\\end{description}\n",
            "text/plain": [
              "$name\n",
              "[1] \"Swift\"\n",
              "\n",
              "$year\n",
              "[1] 2012\n",
              "\n",
              "$type\n",
              "[1] \"Hatchback\"  \"Adventure\"  \"Efficiency\"\n",
              "\n",
              "$cylinders\n",
              "[1] 2\n"
            ]
          },
          "metadata": {}
        }
      ]
    },
    {
      "cell_type": "code",
      "source": [
        "#removing the elements\n",
        "cars[[\"cylinders\"]] <-NULL\n",
        "cars"
      ],
      "metadata": {
        "colab": {
          "base_uri": "https://localhost:8080/",
          "height": 149
        },
        "id": "i67cTFirpONO",
        "outputId": "a9a5fd9e-b9ae-4b44-f7b9-fcaaef294b2b"
      },
      "execution_count": 8,
      "outputs": [
        {
          "output_type": "display_data",
          "data": {
            "text/html": [
              "<dl>\n",
              "\t<dt>$name</dt>\n",
              "\t\t<dd>'Swift'</dd>\n",
              "\t<dt>$year</dt>\n",
              "\t\t<dd>2012</dd>\n",
              "\t<dt>$type</dt>\n",
              "\t\t<dd><style>\n",
              ".list-inline {list-style: none; margin:0; padding: 0}\n",
              ".list-inline>li {display: inline-block}\n",
              ".list-inline>li:not(:last-child)::after {content: \"\\00b7\"; padding: 0 .5ex}\n",
              "</style>\n",
              "<ol class=list-inline><li>'Hatchback'</li><li>'Adventure'</li><li>'Efficiency'</li></ol>\n",
              "</dd>\n",
              "</dl>\n"
            ],
            "text/markdown": "$name\n:   'Swift'\n$year\n:   2012\n$type\n:   1. 'Hatchback'\n2. 'Adventure'\n3. 'Efficiency'\n\n\n\n\n\n",
            "text/latex": "\\begin{description}\n\\item[\\$name] 'Swift'\n\\item[\\$year] 2012\n\\item[\\$type] \\begin{enumerate*}\n\\item 'Hatchback'\n\\item 'Adventure'\n\\item 'Efficiency'\n\\end{enumerate*}\n\n\\end{description}\n",
            "text/plain": [
              "$name\n",
              "[1] \"Swift\"\n",
              "\n",
              "$year\n",
              "[1] 2012\n",
              "\n",
              "$type\n",
              "[1] \"Hatchback\"  \"Adventure\"  \"Efficiency\"\n"
            ]
          },
          "metadata": {}
        }
      ]
    },
    {
      "cell_type": "code",
      "source": [
        "#Concatination\n",
        "cars1 <- list(name=\"Bugatti Chiron\")\n",
        "cars2 <- list(year= 2018, attributes=c(\"two door\", \"fast\", \"aggeressive\"))\n",
        "\n",
        "cars_concat <- c(cars1,cars2)\n",
        "\n",
        "cars_concat"
      ],
      "metadata": {
        "colab": {
          "base_uri": "https://localhost:8080/",
          "height": 149
        },
        "id": "H3Br-Z5ipVjD",
        "outputId": "fbd03db2-ec5c-4b16-d31d-d20e8fcc5489"
      },
      "execution_count": 9,
      "outputs": [
        {
          "output_type": "display_data",
          "data": {
            "text/html": [
              "<dl>\n",
              "\t<dt>$name</dt>\n",
              "\t\t<dd>'Bugatti Chiron'</dd>\n",
              "\t<dt>$year</dt>\n",
              "\t\t<dd>2018</dd>\n",
              "\t<dt>$attributes</dt>\n",
              "\t\t<dd><style>\n",
              ".list-inline {list-style: none; margin:0; padding: 0}\n",
              ".list-inline>li {display: inline-block}\n",
              ".list-inline>li:not(:last-child)::after {content: \"\\00b7\"; padding: 0 .5ex}\n",
              "</style>\n",
              "<ol class=list-inline><li>'two door'</li><li>'fast'</li><li>'aggeressive'</li></ol>\n",
              "</dd>\n",
              "</dl>\n"
            ],
            "text/markdown": "$name\n:   'Bugatti Chiron'\n$year\n:   2018\n$attributes\n:   1. 'two door'\n2. 'fast'\n3. 'aggeressive'\n\n\n\n\n\n",
            "text/latex": "\\begin{description}\n\\item[\\$name] 'Bugatti Chiron'\n\\item[\\$year] 2018\n\\item[\\$attributes] \\begin{enumerate*}\n\\item 'two door'\n\\item 'fast'\n\\item 'aggeressive'\n\\end{enumerate*}\n\n\\end{description}\n",
            "text/plain": [
              "$name\n",
              "[1] \"Bugatti Chiron\"\n",
              "\n",
              "$year\n",
              "[1] 2018\n",
              "\n",
              "$attributes\n",
              "[1] \"two door\"    \"fast\"        \"aggeressive\"\n"
            ]
          },
          "metadata": {}
        }
      ]
    },
    {
      "cell_type": "code",
      "source": [
        "#Data frame\n",
        "\n",
        "cars <- data.frame(name = c(\"Jeep\", \"Renault\", \"BMW\", \"Merc\",\n",
        "                              \"VW\", \"Maruti\", \"Audi\", \"Tata\"),\n",
        "                    year = c(2005, 2008, 2012, 2016, 2013, 2001, 2007, 2022),\n",
        "                    stringsAsFactors=F)\n",
        "\n"
      ],
      "metadata": {
        "id": "7auelLGOtVJa"
      },
      "execution_count": 10,
      "outputs": []
    },
    {
      "cell_type": "code",
      "source": [
        "cars"
      ],
      "metadata": {
        "colab": {
          "base_uri": "https://localhost:8080/",
          "height": 366
        },
        "id": "cH4vwYd8tb7Y",
        "outputId": "3ef37492-2687-44b7-ab6f-a12386e00fc8"
      },
      "execution_count": 11,
      "outputs": [
        {
          "output_type": "display_data",
          "data": {
            "text/html": [
              "<table class=\"dataframe\">\n",
              "<caption>A data.frame: 8 × 2</caption>\n",
              "<thead>\n",
              "\t<tr><th scope=col>name</th><th scope=col>year</th></tr>\n",
              "\t<tr><th scope=col>&lt;chr&gt;</th><th scope=col>&lt;dbl&gt;</th></tr>\n",
              "</thead>\n",
              "<tbody>\n",
              "\t<tr><td>Jeep   </td><td>2005</td></tr>\n",
              "\t<tr><td>Renault</td><td>2008</td></tr>\n",
              "\t<tr><td>BMW    </td><td>2012</td></tr>\n",
              "\t<tr><td>Merc   </td><td>2016</td></tr>\n",
              "\t<tr><td>VW     </td><td>2013</td></tr>\n",
              "\t<tr><td>Maruti </td><td>2001</td></tr>\n",
              "\t<tr><td>Audi   </td><td>2007</td></tr>\n",
              "\t<tr><td>Tata   </td><td>2022</td></tr>\n",
              "</tbody>\n",
              "</table>\n"
            ],
            "text/markdown": "\nA data.frame: 8 × 2\n\n| name &lt;chr&gt; | year &lt;dbl&gt; |\n|---|---|\n| Jeep    | 2005 |\n| Renault | 2008 |\n| BMW     | 2012 |\n| Merc    | 2016 |\n| VW      | 2013 |\n| Maruti  | 2001 |\n| Audi    | 2007 |\n| Tata    | 2022 |\n\n",
            "text/latex": "A data.frame: 8 × 2\n\\begin{tabular}{ll}\n name & year\\\\\n <chr> & <dbl>\\\\\n\\hline\n\t Jeep    & 2005\\\\\n\t Renault & 2008\\\\\n\t BMW     & 2012\\\\\n\t Merc    & 2016\\\\\n\t VW      & 2013\\\\\n\t Maruti  & 2001\\\\\n\t Audi    & 2007\\\\\n\t Tata    & 2022\\\\\n\\end{tabular}\n",
            "text/plain": [
              "  name    year\n",
              "1 Jeep    2005\n",
              "2 Renault 2008\n",
              "3 BMW     2012\n",
              "4 Merc    2016\n",
              "5 VW      2013\n",
              "6 Maruti  2001\n",
              "7 Audi    2007\n",
              "8 Tata    2022"
            ]
          },
          "metadata": {}
        }
      ]
    },
    {
      "cell_type": "code",
      "source": [
        "#calling the first column\n",
        "cars[1]"
      ],
      "metadata": {
        "colab": {
          "base_uri": "https://localhost:8080/",
          "height": 384
        },
        "id": "CieIv99iwlYS",
        "outputId": "1e1336c9-c108-4e95-df5e-1702adad836e"
      },
      "execution_count": 12,
      "outputs": [
        {
          "output_type": "display_data",
          "data": {
            "text/html": [
              "<table class=\"dataframe\">\n",
              "<caption>A data.frame: 8 × 1</caption>\n",
              "<thead>\n",
              "\t<tr><th scope=col>name</th></tr>\n",
              "\t<tr><th scope=col>&lt;chr&gt;</th></tr>\n",
              "</thead>\n",
              "<tbody>\n",
              "\t<tr><td>Jeep   </td></tr>\n",
              "\t<tr><td>Renault</td></tr>\n",
              "\t<tr><td>BMW    </td></tr>\n",
              "\t<tr><td>Merc   </td></tr>\n",
              "\t<tr><td>VW     </td></tr>\n",
              "\t<tr><td>Maruti </td></tr>\n",
              "\t<tr><td>Audi   </td></tr>\n",
              "\t<tr><td>Tata   </td></tr>\n",
              "</tbody>\n",
              "</table>\n"
            ],
            "text/markdown": "\nA data.frame: 8 × 1\n\n| name &lt;chr&gt; |\n|---|\n| Jeep    |\n| Renault |\n| BMW     |\n| Merc    |\n| VW      |\n| Maruti  |\n| Audi    |\n| Tata    |\n\n",
            "text/latex": "A data.frame: 8 × 1\n\\begin{tabular}{l}\n name\\\\\n <chr>\\\\\n\\hline\n\t Jeep   \\\\\n\t Renault\\\\\n\t BMW    \\\\\n\t Merc   \\\\\n\t VW     \\\\\n\t Maruti \\\\\n\t Audi   \\\\\n\t Tata   \\\\\n\\end{tabular}\n",
            "text/plain": [
              "  name   \n",
              "1 Jeep   \n",
              "2 Renault\n",
              "3 BMW    \n",
              "4 Merc   \n",
              "5 VW     \n",
              "6 Maruti \n",
              "7 Audi   \n",
              "8 Tata   "
            ]
          },
          "metadata": {}
        }
      ]
    },
    {
      "cell_type": "code",
      "source": [
        "#calling the car names\n",
        "cars$name"
      ],
      "metadata": {
        "colab": {
          "base_uri": "https://localhost:8080/",
          "height": 34
        },
        "id": "GTR8jx7OwgLt",
        "outputId": "948479c5-95ac-4444-e7ea-f0f619fecce7"
      },
      "execution_count": 13,
      "outputs": [
        {
          "output_type": "display_data",
          "data": {
            "text/html": [
              "<style>\n",
              ".list-inline {list-style: none; margin:0; padding: 0}\n",
              ".list-inline>li {display: inline-block}\n",
              ".list-inline>li:not(:last-child)::after {content: \"\\00b7\"; padding: 0 .5ex}\n",
              "</style>\n",
              "<ol class=list-inline><li>'Jeep'</li><li>'Renault'</li><li>'BMW'</li><li>'Merc'</li><li>'VW'</li><li>'Maruti'</li><li>'Audi'</li><li>'Tata'</li></ol>\n"
            ],
            "text/markdown": "1. 'Jeep'\n2. 'Renault'\n3. 'BMW'\n4. 'Merc'\n5. 'VW'\n6. 'Maruti'\n7. 'Audi'\n8. 'Tata'\n\n\n",
            "text/latex": "\\begin{enumerate*}\n\\item 'Jeep'\n\\item 'Renault'\n\\item 'BMW'\n\\item 'Merc'\n\\item 'VW'\n\\item 'Maruti'\n\\item 'Audi'\n\\item 'Tata'\n\\end{enumerate*}\n",
            "text/plain": [
              "[1] \"Jeep\"    \"Renault\" \"BMW\"     \"Merc\"    \"VW\"      \"Maruti\"  \"Audi\"   \n",
              "[8] \"Tata\"   "
            ]
          },
          "metadata": {}
        }
      ]
    },
    {
      "cell_type": "code",
      "source": [
        "#Calling info about the dataframe\n",
        "str(cars)"
      ],
      "metadata": {
        "colab": {
          "base_uri": "https://localhost:8080/"
        },
        "id": "Pk5HqUQAwksQ",
        "outputId": "36253a9b-1b3d-4c4c-9fcd-d17d4783f935"
      },
      "execution_count": 14,
      "outputs": [
        {
          "output_type": "stream",
          "name": "stdout",
          "text": [
            "'data.frame':\t8 obs. of  2 variables:\n",
            " $ name: chr  \"Jeep\" \"Renault\" \"BMW\" \"Merc\" ...\n",
            " $ year: num  2005 2008 2012 2016 2013 ...\n"
          ]
        }
      ]
    },
    {
      "cell_type": "code",
      "source": [
        "#Calling type of data\n",
        "class(cars$year)"
      ],
      "metadata": {
        "colab": {
          "base_uri": "https://localhost:8080/",
          "height": 34
        },
        "id": "fBsbXI6IwxXV",
        "outputId": "c1cb9ac0-80d0-4a9e-88f3-eea56f002c17"
      },
      "execution_count": 15,
      "outputs": [
        {
          "output_type": "display_data",
          "data": {
            "text/html": [
              "'numeric'"
            ],
            "text/markdown": "'numeric'",
            "text/latex": "'numeric'",
            "text/plain": [
              "[1] \"numeric\""
            ]
          },
          "metadata": {}
        }
      ]
    },
    {
      "cell_type": "code",
      "source": [
        "#calling first few rows of dataframe\n",
        "head(cars)"
      ],
      "metadata": {
        "colab": {
          "base_uri": "https://localhost:8080/",
          "height": 286
        },
        "id": "_lzoGmLmw0Ar",
        "outputId": "292fdddb-88ca-4b25-9637-6f2af6cfcf5b"
      },
      "execution_count": 16,
      "outputs": [
        {
          "output_type": "display_data",
          "data": {
            "text/html": [
              "<table class=\"dataframe\">\n",
              "<caption>A data.frame: 6 × 2</caption>\n",
              "<thead>\n",
              "\t<tr><th></th><th scope=col>name</th><th scope=col>year</th></tr>\n",
              "\t<tr><th></th><th scope=col>&lt;chr&gt;</th><th scope=col>&lt;dbl&gt;</th></tr>\n",
              "</thead>\n",
              "<tbody>\n",
              "\t<tr><th scope=row>1</th><td>Jeep   </td><td>2005</td></tr>\n",
              "\t<tr><th scope=row>2</th><td>Renault</td><td>2008</td></tr>\n",
              "\t<tr><th scope=row>3</th><td>BMW    </td><td>2012</td></tr>\n",
              "\t<tr><th scope=row>4</th><td>Merc   </td><td>2016</td></tr>\n",
              "\t<tr><th scope=row>5</th><td>VW     </td><td>2013</td></tr>\n",
              "\t<tr><th scope=row>6</th><td>Maruti </td><td>2001</td></tr>\n",
              "</tbody>\n",
              "</table>\n"
            ],
            "text/markdown": "\nA data.frame: 6 × 2\n\n| <!--/--> | name &lt;chr&gt; | year &lt;dbl&gt; |\n|---|---|---|\n| 1 | Jeep    | 2005 |\n| 2 | Renault | 2008 |\n| 3 | BMW     | 2012 |\n| 4 | Merc    | 2016 |\n| 5 | VW      | 2013 |\n| 6 | Maruti  | 2001 |\n\n",
            "text/latex": "A data.frame: 6 × 2\n\\begin{tabular}{r|ll}\n  & name & year\\\\\n  & <chr> & <dbl>\\\\\n\\hline\n\t1 & Jeep    & 2005\\\\\n\t2 & Renault & 2008\\\\\n\t3 & BMW     & 2012\\\\\n\t4 & Merc    & 2016\\\\\n\t5 & VW      & 2013\\\\\n\t6 & Maruti  & 2001\\\\\n\\end{tabular}\n",
            "text/plain": [
              "  name    year\n",
              "1 Jeep    2005\n",
              "2 Renault 2008\n",
              "3 BMW     2012\n",
              "4 Merc    2016\n",
              "5 VW      2013\n",
              "6 Maruti  2001"
            ]
          },
          "metadata": {}
        }
      ]
    },
    {
      "cell_type": "code",
      "source": [
        "#calling last few rows of dataframe\n",
        "tail(cars)"
      ],
      "metadata": {
        "colab": {
          "base_uri": "https://localhost:8080/",
          "height": 286
        },
        "id": "u0ttH9yOxDQG",
        "outputId": "06a84cbb-31cb-4922-e607-1787bcd1ce69"
      },
      "execution_count": 17,
      "outputs": [
        {
          "output_type": "display_data",
          "data": {
            "text/html": [
              "<table class=\"dataframe\">\n",
              "<caption>A data.frame: 6 × 2</caption>\n",
              "<thead>\n",
              "\t<tr><th></th><th scope=col>name</th><th scope=col>year</th></tr>\n",
              "\t<tr><th></th><th scope=col>&lt;chr&gt;</th><th scope=col>&lt;dbl&gt;</th></tr>\n",
              "</thead>\n",
              "<tbody>\n",
              "\t<tr><th scope=row>3</th><td>BMW   </td><td>2012</td></tr>\n",
              "\t<tr><th scope=row>4</th><td>Merc  </td><td>2016</td></tr>\n",
              "\t<tr><th scope=row>5</th><td>VW    </td><td>2013</td></tr>\n",
              "\t<tr><th scope=row>6</th><td>Maruti</td><td>2001</td></tr>\n",
              "\t<tr><th scope=row>7</th><td>Audi  </td><td>2007</td></tr>\n",
              "\t<tr><th scope=row>8</th><td>Tata  </td><td>2022</td></tr>\n",
              "</tbody>\n",
              "</table>\n"
            ],
            "text/markdown": "\nA data.frame: 6 × 2\n\n| <!--/--> | name &lt;chr&gt; | year &lt;dbl&gt; |\n|---|---|---|\n| 3 | BMW    | 2012 |\n| 4 | Merc   | 2016 |\n| 5 | VW     | 2013 |\n| 6 | Maruti | 2001 |\n| 7 | Audi   | 2007 |\n| 8 | Tata   | 2022 |\n\n",
            "text/latex": "A data.frame: 6 × 2\n\\begin{tabular}{r|ll}\n  & name & year\\\\\n  & <chr> & <dbl>\\\\\n\\hline\n\t3 & BMW    & 2012\\\\\n\t4 & Merc   & 2016\\\\\n\t5 & VW     & 2013\\\\\n\t6 & Maruti & 2001\\\\\n\t7 & Audi   & 2007\\\\\n\t8 & Tata   & 2022\\\\\n\\end{tabular}\n",
            "text/plain": [
              "  name   year\n",
              "3 BMW    2012\n",
              "4 Merc   2016\n",
              "5 VW     2013\n",
              "6 Maruti 2001\n",
              "7 Audi   2007\n",
              "8 Tata   2022"
            ]
          },
          "metadata": {}
        }
      ]
    },
    {
      "cell_type": "code",
      "source": [
        "cars['type'] <- c(\"Off Road\",\"Rally\",\"Drift\",\"Lux\",\"Durability\",\"Value\",\"Smooth\",\"Raw\")\n",
        "cars"
      ],
      "metadata": {
        "colab": {
          "base_uri": "https://localhost:8080/",
          "height": 349
        },
        "id": "h3GnJLNnxIge",
        "outputId": "2891766a-5d4a-4cf9-d77e-4c18eb2302da"
      },
      "execution_count": 18,
      "outputs": [
        {
          "output_type": "display_data",
          "data": {
            "text/html": [
              "<table class=\"dataframe\">\n",
              "<caption>A data.frame: 8 × 3</caption>\n",
              "<thead>\n",
              "\t<tr><th scope=col>name</th><th scope=col>year</th><th scope=col>type</th></tr>\n",
              "\t<tr><th scope=col>&lt;chr&gt;</th><th scope=col>&lt;dbl&gt;</th><th scope=col>&lt;chr&gt;</th></tr>\n",
              "</thead>\n",
              "<tbody>\n",
              "\t<tr><td>Jeep   </td><td>2005</td><td>Off Road  </td></tr>\n",
              "\t<tr><td>Renault</td><td>2008</td><td>Rally     </td></tr>\n",
              "\t<tr><td>BMW    </td><td>2012</td><td>Drift     </td></tr>\n",
              "\t<tr><td>Merc   </td><td>2016</td><td>Lux       </td></tr>\n",
              "\t<tr><td>VW     </td><td>2013</td><td>Durability</td></tr>\n",
              "\t<tr><td>Maruti </td><td>2001</td><td>Value     </td></tr>\n",
              "\t<tr><td>Audi   </td><td>2007</td><td>Smooth    </td></tr>\n",
              "\t<tr><td>Tata   </td><td>2022</td><td>Raw       </td></tr>\n",
              "</tbody>\n",
              "</table>\n"
            ],
            "text/markdown": "\nA data.frame: 8 × 3\n\n| name &lt;chr&gt; | year &lt;dbl&gt; | type &lt;chr&gt; |\n|---|---|---|\n| Jeep    | 2005 | Off Road   |\n| Renault | 2008 | Rally      |\n| BMW     | 2012 | Drift      |\n| Merc    | 2016 | Lux        |\n| VW      | 2013 | Durability |\n| Maruti  | 2001 | Value      |\n| Audi    | 2007 | Smooth     |\n| Tata    | 2022 | Raw        |\n\n",
            "text/latex": "A data.frame: 8 × 3\n\\begin{tabular}{lll}\n name & year & type\\\\\n <chr> & <dbl> & <chr>\\\\\n\\hline\n\t Jeep    & 2005 & Off Road  \\\\\n\t Renault & 2008 & Rally     \\\\\n\t BMW     & 2012 & Drift     \\\\\n\t Merc    & 2016 & Lux       \\\\\n\t VW      & 2013 & Durability\\\\\n\t Maruti  & 2001 & Value     \\\\\n\t Audi    & 2007 & Smooth    \\\\\n\t Tata    & 2022 & Raw       \\\\\n\\end{tabular}\n",
            "text/plain": [
              "  name    year type      \n",
              "1 Jeep    2005 Off Road  \n",
              "2 Renault 2008 Rally     \n",
              "3 BMW     2012 Drift     \n",
              "4 Merc    2016 Lux       \n",
              "5 VW      2013 Durability\n",
              "6 Maruti  2001 Value     \n",
              "7 Audi    2007 Smooth    \n",
              "8 Tata    2022 Raw       "
            ]
          },
          "metadata": {}
        }
      ]
    },
    {
      "cell_type": "code",
      "source": [
        "#adding a new row\n",
        "cars <- rbind(cars, c(name=\"Toyota\", year=1980, type=\"Race\"))\n",
        "cars"
      ],
      "metadata": {
        "colab": {
          "base_uri": "https://localhost:8080/",
          "height": 380
        },
        "id": "Jtgaw-xMxkel",
        "outputId": "6c9d2755-e06a-41b9-934f-c27040712ddd"
      },
      "execution_count": 19,
      "outputs": [
        {
          "output_type": "display_data",
          "data": {
            "text/html": [
              "<table class=\"dataframe\">\n",
              "<caption>A data.frame: 9 × 3</caption>\n",
              "<thead>\n",
              "\t<tr><th scope=col>name</th><th scope=col>year</th><th scope=col>type</th></tr>\n",
              "\t<tr><th scope=col>&lt;chr&gt;</th><th scope=col>&lt;chr&gt;</th><th scope=col>&lt;chr&gt;</th></tr>\n",
              "</thead>\n",
              "<tbody>\n",
              "\t<tr><td>Jeep   </td><td>2005</td><td>Off Road  </td></tr>\n",
              "\t<tr><td>Renault</td><td>2008</td><td>Rally     </td></tr>\n",
              "\t<tr><td>BMW    </td><td>2012</td><td>Drift     </td></tr>\n",
              "\t<tr><td>Merc   </td><td>2016</td><td>Lux       </td></tr>\n",
              "\t<tr><td>VW     </td><td>2013</td><td>Durability</td></tr>\n",
              "\t<tr><td>Maruti </td><td>2001</td><td>Value     </td></tr>\n",
              "\t<tr><td>Audi   </td><td>2007</td><td>Smooth    </td></tr>\n",
              "\t<tr><td>Tata   </td><td>2022</td><td>Raw       </td></tr>\n",
              "\t<tr><td>Toyota </td><td>1980</td><td>Race      </td></tr>\n",
              "</tbody>\n",
              "</table>\n"
            ],
            "text/markdown": "\nA data.frame: 9 × 3\n\n| name &lt;chr&gt; | year &lt;chr&gt; | type &lt;chr&gt; |\n|---|---|---|\n| Jeep    | 2005 | Off Road   |\n| Renault | 2008 | Rally      |\n| BMW     | 2012 | Drift      |\n| Merc    | 2016 | Lux        |\n| VW      | 2013 | Durability |\n| Maruti  | 2001 | Value      |\n| Audi    | 2007 | Smooth     |\n| Tata    | 2022 | Raw        |\n| Toyota  | 1980 | Race       |\n\n",
            "text/latex": "A data.frame: 9 × 3\n\\begin{tabular}{lll}\n name & year & type\\\\\n <chr> & <chr> & <chr>\\\\\n\\hline\n\t Jeep    & 2005 & Off Road  \\\\\n\t Renault & 2008 & Rally     \\\\\n\t BMW     & 2012 & Drift     \\\\\n\t Merc    & 2016 & Lux       \\\\\n\t VW      & 2013 & Durability\\\\\n\t Maruti  & 2001 & Value     \\\\\n\t Audi    & 2007 & Smooth    \\\\\n\t Tata    & 2022 & Raw       \\\\\n\t Toyota  & 1980 & Race      \\\\\n\\end{tabular}\n",
            "text/plain": [
              "  name    year type      \n",
              "1 Jeep    2005 Off Road  \n",
              "2 Renault 2008 Rally     \n",
              "3 BMW     2012 Drift     \n",
              "4 Merc    2016 Lux       \n",
              "5 VW      2013 Durability\n",
              "6 Maruti  2001 Value     \n",
              "7 Audi    2007 Smooth    \n",
              "8 Tata    2022 Raw       \n",
              "9 Toyota  1980 Race      "
            ]
          },
          "metadata": {}
        }
      ]
    },
    {
      "cell_type": "code",
      "source": [
        "#delete a row tata\n",
        "cars <- cars[-8,]\n",
        "cars"
      ],
      "metadata": {
        "colab": {
          "base_uri": "https://localhost:8080/",
          "height": 349
        },
        "id": "962GHLTjzR2u",
        "outputId": "4faa615a-c085-4dea-8060-7da27ffa0c5d"
      },
      "execution_count": 21,
      "outputs": [
        {
          "output_type": "display_data",
          "data": {
            "text/html": [
              "<table class=\"dataframe\">\n",
              "<caption>A data.frame: 8 × 3</caption>\n",
              "<thead>\n",
              "\t<tr><th></th><th scope=col>name</th><th scope=col>year</th><th scope=col>type</th></tr>\n",
              "\t<tr><th></th><th scope=col>&lt;chr&gt;</th><th scope=col>&lt;chr&gt;</th><th scope=col>&lt;chr&gt;</th></tr>\n",
              "</thead>\n",
              "<tbody>\n",
              "\t<tr><th scope=row>1</th><td>Jeep   </td><td>2005</td><td>Off Road  </td></tr>\n",
              "\t<tr><th scope=row>2</th><td>Renault</td><td>2008</td><td>Rally     </td></tr>\n",
              "\t<tr><th scope=row>3</th><td>BMW    </td><td>2012</td><td>Drift     </td></tr>\n",
              "\t<tr><th scope=row>4</th><td>Merc   </td><td>2016</td><td>Lux       </td></tr>\n",
              "\t<tr><th scope=row>5</th><td>VW     </td><td>2013</td><td>Durability</td></tr>\n",
              "\t<tr><th scope=row>6</th><td>Maruti </td><td>2001</td><td>Value     </td></tr>\n",
              "\t<tr><th scope=row>7</th><td>Audi   </td><td>2007</td><td>Smooth    </td></tr>\n",
              "\t<tr><th scope=row>9</th><td>Toyota </td><td>1980</td><td>Race      </td></tr>\n",
              "</tbody>\n",
              "</table>\n"
            ],
            "text/markdown": "\nA data.frame: 8 × 3\n\n| <!--/--> | name &lt;chr&gt; | year &lt;chr&gt; | type &lt;chr&gt; |\n|---|---|---|---|\n| 1 | Jeep    | 2005 | Off Road   |\n| 2 | Renault | 2008 | Rally      |\n| 3 | BMW     | 2012 | Drift      |\n| 4 | Merc    | 2016 | Lux        |\n| 5 | VW      | 2013 | Durability |\n| 6 | Maruti  | 2001 | Value      |\n| 7 | Audi    | 2007 | Smooth     |\n| 9 | Toyota  | 1980 | Race       |\n\n",
            "text/latex": "A data.frame: 8 × 3\n\\begin{tabular}{r|lll}\n  & name & year & type\\\\\n  & <chr> & <chr> & <chr>\\\\\n\\hline\n\t1 & Jeep    & 2005 & Off Road  \\\\\n\t2 & Renault & 2008 & Rally     \\\\\n\t3 & BMW     & 2012 & Drift     \\\\\n\t4 & Merc    & 2016 & Lux       \\\\\n\t5 & VW      & 2013 & Durability\\\\\n\t6 & Maruti  & 2001 & Value     \\\\\n\t7 & Audi    & 2007 & Smooth    \\\\\n\t9 & Toyota  & 1980 & Race      \\\\\n\\end{tabular}\n",
            "text/plain": [
              "  name    year type      \n",
              "1 Jeep    2005 Off Road  \n",
              "2 Renault 2008 Rally     \n",
              "3 BMW     2012 Drift     \n",
              "4 Merc    2016 Lux       \n",
              "5 VW      2013 Durability\n",
              "6 Maruti  2001 Value     \n",
              "7 Audi    2007 Smooth    \n",
              "9 Toyota  1980 Race      "
            ]
          },
          "metadata": {}
        }
      ]
    },
    {
      "cell_type": "code",
      "source": [
        "#deleting the column type\n",
        "cars[[\"type\"]]<- NULL\n",
        "cars"
      ],
      "metadata": {
        "colab": {
          "base_uri": "https://localhost:8080/",
          "height": 349
        },
        "id": "GCRsTEcJ0xUW",
        "outputId": "48c6fec2-718b-4f24-bbc9-40ba87e47878"
      },
      "execution_count": 22,
      "outputs": [
        {
          "output_type": "display_data",
          "data": {
            "text/html": [
              "<table class=\"dataframe\">\n",
              "<caption>A data.frame: 8 × 2</caption>\n",
              "<thead>\n",
              "\t<tr><th></th><th scope=col>name</th><th scope=col>year</th></tr>\n",
              "\t<tr><th></th><th scope=col>&lt;chr&gt;</th><th scope=col>&lt;chr&gt;</th></tr>\n",
              "</thead>\n",
              "<tbody>\n",
              "\t<tr><th scope=row>1</th><td>Jeep   </td><td>2005</td></tr>\n",
              "\t<tr><th scope=row>2</th><td>Renault</td><td>2008</td></tr>\n",
              "\t<tr><th scope=row>3</th><td>BMW    </td><td>2012</td></tr>\n",
              "\t<tr><th scope=row>4</th><td>Merc   </td><td>2016</td></tr>\n",
              "\t<tr><th scope=row>5</th><td>VW     </td><td>2013</td></tr>\n",
              "\t<tr><th scope=row>6</th><td>Maruti </td><td>2001</td></tr>\n",
              "\t<tr><th scope=row>7</th><td>Audi   </td><td>2007</td></tr>\n",
              "\t<tr><th scope=row>9</th><td>Toyota </td><td>1980</td></tr>\n",
              "</tbody>\n",
              "</table>\n"
            ],
            "text/markdown": "\nA data.frame: 8 × 2\n\n| <!--/--> | name &lt;chr&gt; | year &lt;chr&gt; |\n|---|---|---|\n| 1 | Jeep    | 2005 |\n| 2 | Renault | 2008 |\n| 3 | BMW     | 2012 |\n| 4 | Merc    | 2016 |\n| 5 | VW      | 2013 |\n| 6 | Maruti  | 2001 |\n| 7 | Audi    | 2007 |\n| 9 | Toyota  | 1980 |\n\n",
            "text/latex": "A data.frame: 8 × 2\n\\begin{tabular}{r|ll}\n  & name & year\\\\\n  & <chr> & <chr>\\\\\n\\hline\n\t1 & Jeep    & 2005\\\\\n\t2 & Renault & 2008\\\\\n\t3 & BMW     & 2012\\\\\n\t4 & Merc    & 2016\\\\\n\t5 & VW      & 2013\\\\\n\t6 & Maruti  & 2001\\\\\n\t7 & Audi    & 2007\\\\\n\t9 & Toyota  & 1980\\\\\n\\end{tabular}\n",
            "text/plain": [
              "  name    year\n",
              "1 Jeep    2005\n",
              "2 Renault 2008\n",
              "3 BMW     2012\n",
              "4 Merc    2016\n",
              "5 VW      2013\n",
              "6 Maruti  2001\n",
              "7 Audi    2007\n",
              "9 Toyota  1980"
            ]
          },
          "metadata": {}
        }
      ]
    }
  ]
}